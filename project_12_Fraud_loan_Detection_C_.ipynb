{
  "nbformat": 4,
  "nbformat_minor": 0,
  "metadata": {
    "colab": {
      "name": "project-12 Fraud loan Detection-C .ipynb",
      "provenance": [],
      "collapsed_sections": []
    },
    "kernelspec": {
      "display_name": "Python 3",
      "language": "python",
      "name": "python3"
    },
    "language_info": {
      "codemirror_mode": {
        "name": "ipython",
        "version": 3
      },
      "file_extension": ".py",
      "mimetype": "text/x-python",
      "name": "python",
      "nbconvert_exporter": "python",
      "pygments_lexer": "ipython3",
      "version": "3.7.6"
    }
  },
  "cells": [
    {
      "cell_type": "code",
      "metadata": {
        "colab": {
          "base_uri": "https://localhost:8080/"
        },
        "id": "rmHnJLndVEhy",
        "outputId": "07cf82eb-a5da-463a-dc84-a123c5186316"
      },
      "source": [
        "from google.colab import drive\n",
        "drive.mount('/content/drive')"
      ],
      "execution_count": 1,
      "outputs": [
        {
          "output_type": "stream",
          "text": [
            "Mounted at /content/drive\n"
          ],
          "name": "stdout"
        }
      ]
    },
    {
      "cell_type": "code",
      "metadata": {
        "id": "RonaG8z6U-hA"
      },
      "source": [
        "#Import The Necessary Library\n",
        "from sklearn.metrics import confusion_matrix,classification_report\n",
        "from sklearn.model_selection import train_test_split\n",
        "from sklearn.metrics import accuracy_score\n",
        "import matplotlib.pyplot as plt\n",
        "import seaborn as sns\n",
        "import pandas as pd\n",
        "import numpy as np\n",
        "import warnings\n",
        "%matplotlib inline\n",
        "warnings.filterwarnings('ignore')"
      ],
      "execution_count": 2,
      "outputs": []
    },
    {
      "cell_type": "code",
      "metadata": {
        "id": "1iOPkOxtWl7I"
      },
      "source": [
        "#Load The Dataset That is on .excel FIle \n",
        "data=pd.read_csv('/content/drive/My Drive/project/Dataset/loan_prediction.csv')"
      ],
      "execution_count": 3,
      "outputs": []
    },
    {
      "cell_type": "code",
      "metadata": {
        "id": "EPlXYL38Wl7P",
        "colab": {
          "base_uri": "https://localhost:8080/",
          "height": 241
        },
        "outputId": "543fb059-a242-47eb-acf8-387dbada0cac"
      },
      "source": [
        "#Head() Is Used the Show the first 5 Rows Of the Dataset \n",
        "data.head()"
      ],
      "execution_count": 4,
      "outputs": [
        {
          "output_type": "execute_result",
          "data": {
            "text/html": [
              "<div>\n",
              "<style scoped>\n",
              "    .dataframe tbody tr th:only-of-type {\n",
              "        vertical-align: middle;\n",
              "    }\n",
              "\n",
              "    .dataframe tbody tr th {\n",
              "        vertical-align: top;\n",
              "    }\n",
              "\n",
              "    .dataframe thead th {\n",
              "        text-align: right;\n",
              "    }\n",
              "</style>\n",
              "<table border=\"1\" class=\"dataframe\">\n",
              "  <thead>\n",
              "    <tr style=\"text-align: right;\">\n",
              "      <th></th>\n",
              "      <th>Loan_ID</th>\n",
              "      <th>Gender</th>\n",
              "      <th>Married</th>\n",
              "      <th>Dependents</th>\n",
              "      <th>Education</th>\n",
              "      <th>Self_Employed</th>\n",
              "      <th>ApplicantIncome</th>\n",
              "      <th>CoapplicantIncome</th>\n",
              "      <th>LoanAmount</th>\n",
              "      <th>Loan_Amount_Term</th>\n",
              "      <th>Credit_History</th>\n",
              "      <th>Property_Area</th>\n",
              "      <th>Loan_Status</th>\n",
              "    </tr>\n",
              "  </thead>\n",
              "  <tbody>\n",
              "    <tr>\n",
              "      <th>0</th>\n",
              "      <td>LP001002</td>\n",
              "      <td>Male</td>\n",
              "      <td>No</td>\n",
              "      <td>0</td>\n",
              "      <td>Graduate</td>\n",
              "      <td>No</td>\n",
              "      <td>5849</td>\n",
              "      <td>0.0</td>\n",
              "      <td>NaN</td>\n",
              "      <td>360.0</td>\n",
              "      <td>1.0</td>\n",
              "      <td>Urban</td>\n",
              "      <td>Y</td>\n",
              "    </tr>\n",
              "    <tr>\n",
              "      <th>1</th>\n",
              "      <td>LP001003</td>\n",
              "      <td>Male</td>\n",
              "      <td>Yes</td>\n",
              "      <td>1</td>\n",
              "      <td>Graduate</td>\n",
              "      <td>No</td>\n",
              "      <td>4583</td>\n",
              "      <td>1508.0</td>\n",
              "      <td>128.0</td>\n",
              "      <td>360.0</td>\n",
              "      <td>1.0</td>\n",
              "      <td>Rural</td>\n",
              "      <td>N</td>\n",
              "    </tr>\n",
              "    <tr>\n",
              "      <th>2</th>\n",
              "      <td>LP001005</td>\n",
              "      <td>Male</td>\n",
              "      <td>Yes</td>\n",
              "      <td>0</td>\n",
              "      <td>Graduate</td>\n",
              "      <td>Yes</td>\n",
              "      <td>3000</td>\n",
              "      <td>0.0</td>\n",
              "      <td>66.0</td>\n",
              "      <td>360.0</td>\n",
              "      <td>1.0</td>\n",
              "      <td>Urban</td>\n",
              "      <td>Y</td>\n",
              "    </tr>\n",
              "    <tr>\n",
              "      <th>3</th>\n",
              "      <td>LP001006</td>\n",
              "      <td>Male</td>\n",
              "      <td>Yes</td>\n",
              "      <td>0</td>\n",
              "      <td>Not Graduate</td>\n",
              "      <td>No</td>\n",
              "      <td>2583</td>\n",
              "      <td>2358.0</td>\n",
              "      <td>120.0</td>\n",
              "      <td>360.0</td>\n",
              "      <td>1.0</td>\n",
              "      <td>Urban</td>\n",
              "      <td>Y</td>\n",
              "    </tr>\n",
              "    <tr>\n",
              "      <th>4</th>\n",
              "      <td>LP001008</td>\n",
              "      <td>Male</td>\n",
              "      <td>No</td>\n",
              "      <td>0</td>\n",
              "      <td>Graduate</td>\n",
              "      <td>No</td>\n",
              "      <td>6000</td>\n",
              "      <td>0.0</td>\n",
              "      <td>141.0</td>\n",
              "      <td>360.0</td>\n",
              "      <td>1.0</td>\n",
              "      <td>Urban</td>\n",
              "      <td>Y</td>\n",
              "    </tr>\n",
              "  </tbody>\n",
              "</table>\n",
              "</div>"
            ],
            "text/plain": [
              "    Loan_ID Gender Married  ... Credit_History Property_Area Loan_Status\n",
              "0  LP001002   Male      No  ...            1.0         Urban           Y\n",
              "1  LP001003   Male     Yes  ...            1.0         Rural           N\n",
              "2  LP001005   Male     Yes  ...            1.0         Urban           Y\n",
              "3  LP001006   Male     Yes  ...            1.0         Urban           Y\n",
              "4  LP001008   Male      No  ...            1.0         Urban           Y\n",
              "\n",
              "[5 rows x 13 columns]"
            ]
          },
          "metadata": {
            "tags": []
          },
          "execution_count": 4
        }
      ]
    },
    {
      "cell_type": "code",
      "metadata": {
        "id": "RTbCVXUKK_Rg",
        "colab": {
          "base_uri": "https://localhost:8080/",
          "height": 224
        },
        "outputId": "7f2dbc4e-7b84-43ac-d420-88f484163915"
      },
      "source": [
        "#Tail() Is Used the Show the first 5 Rows Of the Dataset \n",
        "data.tail()"
      ],
      "execution_count": 5,
      "outputs": [
        {
          "output_type": "execute_result",
          "data": {
            "text/html": [
              "<div>\n",
              "<style scoped>\n",
              "    .dataframe tbody tr th:only-of-type {\n",
              "        vertical-align: middle;\n",
              "    }\n",
              "\n",
              "    .dataframe tbody tr th {\n",
              "        vertical-align: top;\n",
              "    }\n",
              "\n",
              "    .dataframe thead th {\n",
              "        text-align: right;\n",
              "    }\n",
              "</style>\n",
              "<table border=\"1\" class=\"dataframe\">\n",
              "  <thead>\n",
              "    <tr style=\"text-align: right;\">\n",
              "      <th></th>\n",
              "      <th>Loan_ID</th>\n",
              "      <th>Gender</th>\n",
              "      <th>Married</th>\n",
              "      <th>Dependents</th>\n",
              "      <th>Education</th>\n",
              "      <th>Self_Employed</th>\n",
              "      <th>ApplicantIncome</th>\n",
              "      <th>CoapplicantIncome</th>\n",
              "      <th>LoanAmount</th>\n",
              "      <th>Loan_Amount_Term</th>\n",
              "      <th>Credit_History</th>\n",
              "      <th>Property_Area</th>\n",
              "      <th>Loan_Status</th>\n",
              "    </tr>\n",
              "  </thead>\n",
              "  <tbody>\n",
              "    <tr>\n",
              "      <th>609</th>\n",
              "      <td>LP002978</td>\n",
              "      <td>Female</td>\n",
              "      <td>No</td>\n",
              "      <td>0</td>\n",
              "      <td>Graduate</td>\n",
              "      <td>No</td>\n",
              "      <td>2900</td>\n",
              "      <td>0.0</td>\n",
              "      <td>71.0</td>\n",
              "      <td>360.0</td>\n",
              "      <td>1.0</td>\n",
              "      <td>Rural</td>\n",
              "      <td>Y</td>\n",
              "    </tr>\n",
              "    <tr>\n",
              "      <th>610</th>\n",
              "      <td>LP002979</td>\n",
              "      <td>Male</td>\n",
              "      <td>Yes</td>\n",
              "      <td>3+</td>\n",
              "      <td>Graduate</td>\n",
              "      <td>No</td>\n",
              "      <td>4106</td>\n",
              "      <td>0.0</td>\n",
              "      <td>40.0</td>\n",
              "      <td>180.0</td>\n",
              "      <td>1.0</td>\n",
              "      <td>Rural</td>\n",
              "      <td>Y</td>\n",
              "    </tr>\n",
              "    <tr>\n",
              "      <th>611</th>\n",
              "      <td>LP002983</td>\n",
              "      <td>Male</td>\n",
              "      <td>Yes</td>\n",
              "      <td>1</td>\n",
              "      <td>Graduate</td>\n",
              "      <td>No</td>\n",
              "      <td>8072</td>\n",
              "      <td>240.0</td>\n",
              "      <td>253.0</td>\n",
              "      <td>360.0</td>\n",
              "      <td>1.0</td>\n",
              "      <td>Urban</td>\n",
              "      <td>Y</td>\n",
              "    </tr>\n",
              "    <tr>\n",
              "      <th>612</th>\n",
              "      <td>LP002984</td>\n",
              "      <td>Male</td>\n",
              "      <td>Yes</td>\n",
              "      <td>2</td>\n",
              "      <td>Graduate</td>\n",
              "      <td>No</td>\n",
              "      <td>7583</td>\n",
              "      <td>0.0</td>\n",
              "      <td>187.0</td>\n",
              "      <td>360.0</td>\n",
              "      <td>1.0</td>\n",
              "      <td>Urban</td>\n",
              "      <td>Y</td>\n",
              "    </tr>\n",
              "    <tr>\n",
              "      <th>613</th>\n",
              "      <td>LP002990</td>\n",
              "      <td>Female</td>\n",
              "      <td>No</td>\n",
              "      <td>0</td>\n",
              "      <td>Graduate</td>\n",
              "      <td>Yes</td>\n",
              "      <td>4583</td>\n",
              "      <td>0.0</td>\n",
              "      <td>133.0</td>\n",
              "      <td>360.0</td>\n",
              "      <td>0.0</td>\n",
              "      <td>Semiurban</td>\n",
              "      <td>N</td>\n",
              "    </tr>\n",
              "  </tbody>\n",
              "</table>\n",
              "</div>"
            ],
            "text/plain": [
              "      Loan_ID  Gender Married  ... Credit_History Property_Area Loan_Status\n",
              "609  LP002978  Female      No  ...            1.0         Rural           Y\n",
              "610  LP002979    Male     Yes  ...            1.0         Rural           Y\n",
              "611  LP002983    Male     Yes  ...            1.0         Urban           Y\n",
              "612  LP002984    Male     Yes  ...            1.0         Urban           Y\n",
              "613  LP002990  Female      No  ...            0.0     Semiurban           N\n",
              "\n",
              "[5 rows x 13 columns]"
            ]
          },
          "metadata": {
            "tags": []
          },
          "execution_count": 5
        }
      ]
    },
    {
      "cell_type": "code",
      "metadata": {
        "id": "ujDxR9ArWl7V",
        "colab": {
          "base_uri": "https://localhost:8080/"
        },
        "outputId": "f2b17a4f-b634-441d-c20b-6565ea97192a"
      },
      "source": [
        "#Attributes For Each Columns \r\n",
        "data.keys()"
      ],
      "execution_count": 6,
      "outputs": [
        {
          "output_type": "execute_result",
          "data": {
            "text/plain": [
              "Index(['Loan_ID', 'Gender', 'Married', 'Dependents', 'Education',\n",
              "       'Self_Employed', 'ApplicantIncome', 'CoapplicantIncome', 'LoanAmount',\n",
              "       'Loan_Amount_Term', 'Credit_History', 'Property_Area', 'Loan_Status'],\n",
              "      dtype='object')"
            ]
          },
          "metadata": {
            "tags": []
          },
          "execution_count": 6
        }
      ]
    },
    {
      "cell_type": "code",
      "metadata": {
        "id": "xp0UIsDfWl7b",
        "colab": {
          "base_uri": "https://localhost:8080/"
        },
        "outputId": "cb0eb6e9-cb6f-46dc-a9ad-ee39ed40c6c0"
      },
      "source": [
        "#Check The Shape Of The Dataset \n",
        "data.shape"
      ],
      "execution_count": 7,
      "outputs": [
        {
          "output_type": "execute_result",
          "data": {
            "text/plain": [
              "(614, 13)"
            ]
          },
          "metadata": {
            "tags": []
          },
          "execution_count": 7
        }
      ]
    },
    {
      "cell_type": "code",
      "metadata": {
        "id": "5vHoA2TQWl7g",
        "colab": {
          "base_uri": "https://localhost:8080/"
        },
        "outputId": "fbba2d97-839b-4637-c2e8-127d56156d6d"
      },
      "source": [
        "#Here Check the datatype for each attribute or column \r\n",
        "data.dtypes"
      ],
      "execution_count": 8,
      "outputs": [
        {
          "output_type": "execute_result",
          "data": {
            "text/plain": [
              "Loan_ID               object\n",
              "Gender                object\n",
              "Married               object\n",
              "Dependents            object\n",
              "Education             object\n",
              "Self_Employed         object\n",
              "ApplicantIncome        int64\n",
              "CoapplicantIncome    float64\n",
              "LoanAmount           float64\n",
              "Loan_Amount_Term     float64\n",
              "Credit_History       float64\n",
              "Property_Area         object\n",
              "Loan_Status           object\n",
              "dtype: object"
            ]
          },
          "metadata": {
            "tags": []
          },
          "execution_count": 8
        }
      ]
    },
    {
      "cell_type": "code",
      "metadata": {
        "id": "Xin_ZvHqWl7m",
        "colab": {
          "base_uri": "https://localhost:8080/"
        },
        "outputId": "7199ff77-88c1-4dfd-c8d9-fbc947050dac"
      },
      "source": [
        "#Here Get the information for each attribute of dataset \r\n",
        "data.info()"
      ],
      "execution_count": 9,
      "outputs": [
        {
          "output_type": "stream",
          "text": [
            "<class 'pandas.core.frame.DataFrame'>\n",
            "RangeIndex: 614 entries, 0 to 613\n",
            "Data columns (total 13 columns):\n",
            " #   Column             Non-Null Count  Dtype  \n",
            "---  ------             --------------  -----  \n",
            " 0   Loan_ID            614 non-null    object \n",
            " 1   Gender             601 non-null    object \n",
            " 2   Married            611 non-null    object \n",
            " 3   Dependents         599 non-null    object \n",
            " 4   Education          614 non-null    object \n",
            " 5   Self_Employed      582 non-null    object \n",
            " 6   ApplicantIncome    614 non-null    int64  \n",
            " 7   CoapplicantIncome  614 non-null    float64\n",
            " 8   LoanAmount         592 non-null    float64\n",
            " 9   Loan_Amount_Term   600 non-null    float64\n",
            " 10  Credit_History     564 non-null    float64\n",
            " 11  Property_Area      614 non-null    object \n",
            " 12  Loan_Status        614 non-null    object \n",
            "dtypes: float64(4), int64(1), object(8)\n",
            "memory usage: 62.5+ KB\n"
          ],
          "name": "stdout"
        }
      ]
    },
    {
      "cell_type": "code",
      "metadata": {
        "id": "DXwg6sGpWl7s",
        "colab": {
          "base_uri": "https://localhost:8080/"
        },
        "outputId": "5aafbbf3-e4b3-49ef-eb3e-5710ef410b72"
      },
      "source": [
        "#Check the Null Values of each rows in the dataset\r\n",
        "data.isnull().sum()"
      ],
      "execution_count": 10,
      "outputs": [
        {
          "output_type": "execute_result",
          "data": {
            "text/plain": [
              "Loan_ID               0\n",
              "Gender               13\n",
              "Married               3\n",
              "Dependents           15\n",
              "Education             0\n",
              "Self_Employed        32\n",
              "ApplicantIncome       0\n",
              "CoapplicantIncome     0\n",
              "LoanAmount           22\n",
              "Loan_Amount_Term     14\n",
              "Credit_History       50\n",
              "Property_Area         0\n",
              "Loan_Status           0\n",
              "dtype: int64"
            ]
          },
          "metadata": {
            "tags": []
          },
          "execution_count": 10
        }
      ]
    },
    {
      "cell_type": "code",
      "metadata": {
        "id": "37tcn8d5Wl7y",
        "colab": {
          "base_uri": "https://localhost:8080/",
          "height": 373
        },
        "outputId": "7ba33d3f-f2f8-421b-83fe-977451d81d10"
      },
      "source": [
        "#This is the heatmap that's show the NULL Value is having or not \r\n",
        "sns.heatmap(data.isnull())"
      ],
      "execution_count": 11,
      "outputs": [
        {
          "output_type": "execute_result",
          "data": {
            "text/plain": [
              "<matplotlib.axes._subplots.AxesSubplot at 0x7f38c9b60860>"
            ]
          },
          "metadata": {
            "tags": []
          },
          "execution_count": 11
        },
        {
          "output_type": "display_data",
          "data": {
            "image/png": "[encoded data removed]",
            "text/plain": [
              "<Figure size 432x288 with 2 Axes>"
            ]
          },
          "metadata": {
            "tags": [],
            "needs_background": "light"
          }
        }
      ]
    },
    {
      "cell_type": "code",
      "metadata": {
        "id": "oXP0E0OUWl73"
      },
      "source": [
        "data['LoanAmount'].fillna(data['LoanAmount'].mean(), inplace = True)"
      ],
      "execution_count": 12,
      "outputs": []
    },
    {
      "cell_type": "code",
      "metadata": {
        "id": "iUIy5tLEWl78"
      },
      "source": [
        "data['Loan_Amount_Term'].fillna(data['Loan_Amount_Term'].mean(), inplace = True)"
      ],
      "execution_count": 13,
      "outputs": []
    },
    {
      "cell_type": "code",
      "metadata": {
        "id": "UEf0KjWaKHUB"
      },
      "source": [
        "data=data.dropna()"
      ],
      "execution_count": 14,
      "outputs": []
    },
    {
      "cell_type": "code",
      "metadata": {
        "id": "Tq6cpoYfKQCp",
        "colab": {
          "base_uri": "https://localhost:8080/"
        },
        "outputId": "b030388b-be6e-4216-d0e7-ede56205831d"
      },
      "source": [
        "data.shape"
      ],
      "execution_count": 15,
      "outputs": [
        {
          "output_type": "execute_result",
          "data": {
            "text/plain": [
              "(511, 13)"
            ]
          },
          "metadata": {
            "tags": []
          },
          "execution_count": 15
        }
      ]
    },
    {
      "cell_type": "code",
      "metadata": {
        "id": "9-wnsdQVWl8Q",
        "colab": {
          "base_uri": "https://localhost:8080/"
        },
        "outputId": "7b24ce7f-69d0-4a28-ddaa-50d091848d5c"
      },
      "source": [
        "data.isnull().sum()"
      ],
      "execution_count": 16,
      "outputs": [
        {
          "output_type": "execute_result",
          "data": {
            "text/plain": [
              "Loan_ID              0\n",
              "Gender               0\n",
              "Married              0\n",
              "Dependents           0\n",
              "Education            0\n",
              "Self_Employed        0\n",
              "ApplicantIncome      0\n",
              "CoapplicantIncome    0\n",
              "LoanAmount           0\n",
              "Loan_Amount_Term     0\n",
              "Credit_History       0\n",
              "Property_Area        0\n",
              "Loan_Status          0\n",
              "dtype: int64"
            ]
          },
          "metadata": {
            "tags": []
          },
          "execution_count": 16
        }
      ]
    },
    {
      "cell_type": "code",
      "metadata": {
        "id": "W24XRtHBWl8u",
        "colab": {
          "base_uri": "https://localhost:8080/",
          "height": 373
        },
        "outputId": "809aa4bb-6434-4775-f9f0-1cb6bbfe0e3d"
      },
      "source": [
        "sns.heatmap(data.isnull())"
      ],
      "execution_count": 17,
      "outputs": [
        {
          "output_type": "execute_result",
          "data": {
            "text/plain": [
              "<matplotlib.axes._subplots.AxesSubplot at 0x7f38c0d25278>"
            ]
          },
          "metadata": {
            "tags": []
          },
          "execution_count": 17
        },
        {
          "output_type": "display_data",
          "data": {
            "image/png": "[encoded data removed]",
            "text/plain": [
              "<Figure size 432x288 with 2 Axes>"
            ]
          },
          "metadata": {
            "tags": [],
            "needs_background": "light"
          }
        }
      ]
    },
    {
      "cell_type": "code",
      "metadata": {
        "id": "9ypBCD3-Lkv0",
        "colab": {
          "base_uri": "https://localhost:8080/"
        },
        "outputId": "0ce2fd84-6e67-4e20-9cb7-f0c7da9d75df"
      },
      "source": [
        "categorical = data.select_dtypes(include = [\"object\"]).keys()\n",
        "categorical"
      ],
      "execution_count": 18,
      "outputs": [
        {
          "output_type": "execute_result",
          "data": {
            "text/plain": [
              "Index(['Loan_ID', 'Gender', 'Married', 'Dependents', 'Education',\n",
              "       'Self_Employed', 'Property_Area', 'Loan_Status'],\n",
              "      dtype='object')"
            ]
          },
          "metadata": {
            "tags": []
          },
          "execution_count": 18
        }
      ]
    },
    {
      "cell_type": "code",
      "metadata": {
        "id": "Xo3Sz4N1Lvo2",
        "colab": {
          "base_uri": "https://localhost:8080/"
        },
        "outputId": "1e5e319d-5cd3-46c0-96c1-ef72706faf87"
      },
      "source": [
        "Numerical = data.select_dtypes(include = [\"int64\"]).keys()\n",
        "Numerical"
      ],
      "execution_count": 19,
      "outputs": [
        {
          "output_type": "execute_result",
          "data": {
            "text/plain": [
              "Index(['ApplicantIncome'], dtype='object')"
            ]
          },
          "metadata": {
            "tags": []
          },
          "execution_count": 19
        }
      ]
    },
    {
      "cell_type": "code",
      "metadata": {
        "id": "DNdZDh-_LwEQ",
        "colab": {
          "base_uri": "https://localhost:8080/"
        },
        "outputId": "9dea742b-5f15-4957-8327-6b9c472d74b1"
      },
      "source": [
        "Float = data.select_dtypes(include = [\"float64\"]).keys()\n",
        "Float"
      ],
      "execution_count": 20,
      "outputs": [
        {
          "output_type": "execute_result",
          "data": {
            "text/plain": [
              "Index(['CoapplicantIncome', 'LoanAmount', 'Loan_Amount_Term',\n",
              "       'Credit_History'],\n",
              "      dtype='object')"
            ]
          },
          "metadata": {
            "tags": []
          },
          "execution_count": 20
        }
      ]
    },
    {
      "cell_type": "code",
      "metadata": {
        "id": "fgdY0irpMFYf",
        "colab": {
          "base_uri": "https://localhost:8080/",
          "height": 297
        },
        "outputId": "d0ce6830-e7a7-4782-ede2-08b28e84294d"
      },
      "source": [
        "data[Numerical].describe()#Describe the dataset Column Value "
      ],
      "execution_count": 21,
      "outputs": [
        {
          "output_type": "execute_result",
          "data": {
            "text/html": [
              "<div>\n",
              "<style scoped>\n",
              "    .dataframe tbody tr th:only-of-type {\n",
              "        vertical-align: middle;\n",
              "    }\n",
              "\n",
              "    .dataframe tbody tr th {\n",
              "        vertical-align: top;\n",
              "    }\n",
              "\n",
              "    .dataframe thead th {\n",
              "        text-align: right;\n",
              "    }\n",
              "</style>\n",
              "<table border=\"1\" class=\"dataframe\">\n",
              "  <thead>\n",
              "    <tr style=\"text-align: right;\">\n",
              "      <th></th>\n",
              "      <th>ApplicantIncome</th>\n",
              "    </tr>\n",
              "  </thead>\n",
              "  <tbody>\n",
              "    <tr>\n",
              "      <th>count</th>\n",
              "      <td>511.000000</td>\n",
              "    </tr>\n",
              "    <tr>\n",
              "      <th>mean</th>\n",
              "      <td>5308.146771</td>\n",
              "    </tr>\n",
              "    <tr>\n",
              "      <th>std</th>\n",
              "      <td>5561.209487</td>\n",
              "    </tr>\n",
              "    <tr>\n",
              "      <th>min</th>\n",
              "      <td>150.000000</td>\n",
              "    </tr>\n",
              "    <tr>\n",
              "      <th>25%</th>\n",
              "      <td>2885.500000</td>\n",
              "    </tr>\n",
              "    <tr>\n",
              "      <th>50%</th>\n",
              "      <td>3858.000000</td>\n",
              "    </tr>\n",
              "    <tr>\n",
              "      <th>75%</th>\n",
              "      <td>5820.000000</td>\n",
              "    </tr>\n",
              "    <tr>\n",
              "      <th>max</th>\n",
              "      <td>81000.000000</td>\n",
              "    </tr>\n",
              "  </tbody>\n",
              "</table>\n",
              "</div>"
            ],
            "text/plain": [
              "       ApplicantIncome\n",
              "count       511.000000\n",
              "mean       5308.146771\n",
              "std        5561.209487\n",
              "min         150.000000\n",
              "25%        2885.500000\n",
              "50%        3858.000000\n",
              "75%        5820.000000\n",
              "max       81000.000000"
            ]
          },
          "metadata": {
            "tags": []
          },
          "execution_count": 21
        }
      ]
    },
    {
      "cell_type": "code",
      "metadata": {
        "id": "cbPkJrP7MLRd",
        "colab": {
          "base_uri": "https://localhost:8080/",
          "height": 297
        },
        "outputId": "a97bd651-ea14-4919-b6aa-fd99b2871536"
      },
      "source": [
        "data[Float].describe()#Describe the dataset Column Value "
      ],
      "execution_count": 22,
      "outputs": [
        {
          "output_type": "execute_result",
          "data": {
            "text/html": [
              "<div>\n",
              "<style scoped>\n",
              "    .dataframe tbody tr th:only-of-type {\n",
              "        vertical-align: middle;\n",
              "    }\n",
              "\n",
              "    .dataframe tbody tr th {\n",
              "        vertical-align: top;\n",
              "    }\n",
              "\n",
              "    .dataframe thead th {\n",
              "        text-align: right;\n",
              "    }\n",
              "</style>\n",
              "<table border=\"1\" class=\"dataframe\">\n",
              "  <thead>\n",
              "    <tr style=\"text-align: right;\">\n",
              "      <th></th>\n",
              "      <th>CoapplicantIncome</th>\n",
              "      <th>LoanAmount</th>\n",
              "      <th>Loan_Amount_Term</th>\n",
              "      <th>Credit_History</th>\n",
              "    </tr>\n",
              "  </thead>\n",
              "  <tbody>\n",
              "    <tr>\n",
              "      <th>count</th>\n",
              "      <td>511.000000</td>\n",
              "      <td>511.000000</td>\n",
              "      <td>511.000000</td>\n",
              "      <td>511.000000</td>\n",
              "    </tr>\n",
              "    <tr>\n",
              "      <th>mean</th>\n",
              "      <td>1561.997886</td>\n",
              "      <td>144.220804</td>\n",
              "      <td>342.011742</td>\n",
              "      <td>0.843444</td>\n",
              "    </tr>\n",
              "    <tr>\n",
              "      <th>std</th>\n",
              "      <td>2559.383166</td>\n",
              "      <td>78.266321</td>\n",
              "      <td>64.092763</td>\n",
              "      <td>0.363738</td>\n",
              "    </tr>\n",
              "    <tr>\n",
              "      <th>min</th>\n",
              "      <td>0.000000</td>\n",
              "      <td>9.000000</td>\n",
              "      <td>36.000000</td>\n",
              "      <td>0.000000</td>\n",
              "    </tr>\n",
              "    <tr>\n",
              "      <th>25%</th>\n",
              "      <td>0.000000</td>\n",
              "      <td>100.000000</td>\n",
              "      <td>360.000000</td>\n",
              "      <td>1.000000</td>\n",
              "    </tr>\n",
              "    <tr>\n",
              "      <th>50%</th>\n",
              "      <td>1086.000000</td>\n",
              "      <td>129.000000</td>\n",
              "      <td>360.000000</td>\n",
              "      <td>1.000000</td>\n",
              "    </tr>\n",
              "    <tr>\n",
              "      <th>75%</th>\n",
              "      <td>2253.500000</td>\n",
              "      <td>165.500000</td>\n",
              "      <td>360.000000</td>\n",
              "      <td>1.000000</td>\n",
              "    </tr>\n",
              "    <tr>\n",
              "      <th>max</th>\n",
              "      <td>33837.000000</td>\n",
              "      <td>600.000000</td>\n",
              "      <td>480.000000</td>\n",
              "      <td>1.000000</td>\n",
              "    </tr>\n",
              "  </tbody>\n",
              "</table>\n",
              "</div>"
            ],
            "text/plain": [
              "       CoapplicantIncome  LoanAmount  Loan_Amount_Term  Credit_History\n",
              "count         511.000000  511.000000        511.000000      511.000000\n",
              "mean         1561.997886  144.220804        342.011742        0.843444\n",
              "std          2559.383166   78.266321         64.092763        0.363738\n",
              "min             0.000000    9.000000         36.000000        0.000000\n",
              "25%             0.000000  100.000000        360.000000        1.000000\n",
              "50%          1086.000000  129.000000        360.000000        1.000000\n",
              "75%          2253.500000  165.500000        360.000000        1.000000\n",
              "max         33837.000000  600.000000        480.000000        1.000000"
            ]
          },
          "metadata": {
            "tags": []
          },
          "execution_count": 22
        }
      ]
    },
    {
      "cell_type": "markdown",
      "metadata": {
        "id": "_TiQDX_SMVS2"
      },
      "source": [
        "# Visualisation of Graphs For Catagorical data\r\n",
        "\r\n",
        "> Indented block\r\n",
        "\r\n"
      ]
    },
    {
      "cell_type": "code",
      "metadata": {
        "id": "o2tFminbMffE",
        "colab": {
          "base_uri": "https://localhost:8080/",
          "height": 369
        },
        "outputId": "cf649ab8-5609-4fa4-ed05-dfecefbe94cb"
      },
      "source": [
        "fig = plt.figure(figsize=(10,5))\n",
        "sns.countplot('Gender', hue='Loan_Status', data=data)\n",
        "plt.tight_layout()\n",
        "plt.show()"
      ],
      "execution_count": 23,
      "outputs": [
        {
          "output_type": "display_data",
          "data": {
            "image/png": "[encoded data removed]",
            "text/plain": [
              "<Figure size 720x360 with 1 Axes>"
            ]
          },
          "metadata": {
            "tags": [],
            "needs_background": "light"
          }
        }
      ]
    },
    {
      "cell_type": "code",
      "metadata": {
        "id": "qA4it9DgMfb2",
        "colab": {
          "base_uri": "https://localhost:8080/",
          "height": 369
        },
        "outputId": "e53d7d2f-b274-4039-b369-11b4a28c15b8"
      },
      "source": [
        "fig = plt.figure(figsize=(10,5))\n",
        "sns.countplot('Married', hue='Loan_Status', data=data)\n",
        "plt.tight_layout()\n",
        "plt.show()"
      ],
      "execution_count": 24,
      "outputs": [
        {
          "output_type": "display_data",
          "data": {
            "image/png": "[encoded data removed]",
            "text/plain": [
              "<Figure size 720x360 with 1 Axes>"
            ]
          },
          "metadata": {
            "tags": [],
            "needs_background": "light"
          }
        }
      ]
    },
    {
      "cell_type": "code",
      "metadata": {
        "id": "F_LD9uW_MfZX",
        "colab": {
          "base_uri": "https://localhost:8080/",
          "height": 369
        },
        "outputId": "1545edd6-e5f6-460c-aa78-9d82c2f23f54"
      },
      "source": [
        "fig = plt.figure(figsize=(10,5))\n",
        "sns.countplot('Dependents', hue='Loan_Status', data=data)\n",
        "plt.tight_layout()\n",
        "plt.show()"
      ],
      "execution_count": 25,
      "outputs": [
        {
          "output_type": "display_data",
          "data": {
            "image/png": "[encoded data removed]",
            "text/plain": [
              "<Figure size 720x360 with 1 Axes>"
            ]
          },
          "metadata": {
            "tags": [],
            "needs_background": "light"
          }
        }
      ]
    },
    {
      "cell_type": "code",
      "metadata": {
        "id": "Zk1qAcUgMfWy",
        "colab": {
          "base_uri": "https://localhost:8080/",
          "height": 369
        },
        "outputId": "7fb5b4dc-20fa-4be1-9cbd-9388ef2b3d58"
      },
      "source": [
        "fig = plt.figure(figsize=(10,5))\n",
        "sns.countplot('Education', hue='Loan_Status', data=data)\n",
        "plt.tight_layout()\n",
        "plt.show()"
      ],
      "execution_count": 26,
      "outputs": [
        {
          "output_type": "display_data",
          "data": {
            "image/png": "[encoded data removed]",
            "text/plain": [
              "<Figure size 720x360 with 1 Axes>"
            ]
          },
          "metadata": {
            "tags": [],
            "needs_background": "light"
          }
        }
      ]
    },
    {
      "cell_type": "code",
      "metadata": {
        "id": "saJZVt3OMfUO",
        "colab": {
          "base_uri": "https://localhost:8080/",
          "height": 369
        },
        "outputId": "62bb5466-d12a-409e-a6b0-00eea2c9f177"
      },
      "source": [
        "fig = plt.figure(figsize=(10,5))\n",
        "sns.countplot('Self_Employed', hue='Loan_Status', data=data)\n",
        "plt.tight_layout()\n",
        "plt.show()"
      ],
      "execution_count": 27,
      "outputs": [
        {
          "output_type": "display_data",
          "data": {
            "image/png": "[encoded data removed]",
            "text/plain": [
              "<Figure size 720x360 with 1 Axes>"
            ]
          },
          "metadata": {
            "tags": [],
            "needs_background": "light"
          }
        }
      ]
    },
    {
      "cell_type": "code",
      "metadata": {
        "id": "66ohKklyMfRA",
        "colab": {
          "base_uri": "https://localhost:8080/",
          "height": 369
        },
        "outputId": "4d97ef0c-8eef-4631-b81a-abbb839bb92c"
      },
      "source": [
        "fig = plt.figure(figsize=(10,5))\n",
        "sns.countplot('Property_Area', hue='Loan_Status', data=data)\n",
        "plt.tight_layout()\n",
        "plt.show()"
      ],
      "execution_count": 28,
      "outputs": [
        {
          "output_type": "display_data",
          "data": {
            "image/png": "[encoded data removed]",
            "text/plain": [
              "<Figure size 720x360 with 1 Axes>"
            ]
          },
          "metadata": {
            "tags": [],
            "needs_background": "light"
          }
        }
      ]
    },
    {
      "cell_type": "code",
      "metadata": {
        "id": "kgGz-zo5NXE8",
        "colab": {
          "base_uri": "https://localhost:8080/",
          "height": 298
        },
        "outputId": "52a9c184-2433-4606-ac9e-156522c912b6"
      },
      "source": [
        "sns.boxplot(y='CoapplicantIncome',x='Loan_Status',data=data)"
      ],
      "execution_count": 29,
      "outputs": [
        {
          "output_type": "execute_result",
          "data": {
            "text/plain": [
              "<matplotlib.axes._subplots.AxesSubplot at 0x7f38c0022dd8>"
            ]
          },
          "metadata": {
            "tags": []
          },
          "execution_count": 29
        },
        {
          "output_type": "display_data",
          "data": {
            "image/png": "[encoded data removed]",
            "text/plain": [
              "<Figure size 432x288 with 1 Axes>"
            ]
          },
          "metadata": {
            "tags": [],
            "needs_background": "light"
          }
        }
      ]
    },
    {
      "cell_type": "code",
      "metadata": {
        "id": "KXtauqyxMe3w",
        "colab": {
          "base_uri": "https://localhost:8080/",
          "height": 297
        },
        "outputId": "27eb4bc0-2327-4bfb-88cc-eb1e6f2a2e1b"
      },
      "source": [
        "sns.boxplot(y='LoanAmount',x='Loan_Status',data=data)"
      ],
      "execution_count": 30,
      "outputs": [
        {
          "output_type": "execute_result",
          "data": {
            "text/plain": [
              "<matplotlib.axes._subplots.AxesSubplot at 0x7f38bffcc1d0>"
            ]
          },
          "metadata": {
            "tags": []
          },
          "execution_count": 30
        },
        {
          "output_type": "display_data",
          "data": {
            "image/png": "[encoded data removed]",
            "text/plain": [
              "<Figure size 432x288 with 1 Axes>"
            ]
          },
          "metadata": {
            "tags": [],
            "needs_background": "light"
          }
        }
      ]
    },
    {
      "cell_type": "code",
      "metadata": {
        "id": "U9a4BhIbMe0u",
        "colab": {
          "base_uri": "https://localhost:8080/",
          "height": 300
        },
        "outputId": "cad95dc3-1b3b-4e63-9fd0-bb36d0133e92"
      },
      "source": [
        "sns.boxplot(y='Loan_Amount_Term',x='Loan_Status',data=data)"
      ],
      "execution_count": 31,
      "outputs": [
        {
          "output_type": "execute_result",
          "data": {
            "text/plain": [
              "<matplotlib.axes._subplots.AxesSubplot at 0x7f38bfe779b0>"
            ]
          },
          "metadata": {
            "tags": []
          },
          "execution_count": 31
        },
        {
          "output_type": "display_data",
          "data": {
            "image/png": "[encoded data removed]",
            "text/plain": [
              "<Figure size 432x288 with 1 Axes>"
            ]
          },
          "metadata": {
            "tags": [],
            "needs_background": "light"
          }
        }
      ]
    },
    {
      "cell_type": "code",
      "metadata": {
        "id": "zcy9yijfMex-",
        "colab": {
          "base_uri": "https://localhost:8080/",
          "height": 297
        },
        "outputId": "d38c0344-4a6e-4446-e4dd-0c4e8f1eba82"
      },
      "source": [
        "sns.boxplot(y='Credit_History',x='Loan_Status',data=data)"
      ],
      "execution_count": 32,
      "outputs": [
        {
          "output_type": "execute_result",
          "data": {
            "text/plain": [
              "<matplotlib.axes._subplots.AxesSubplot at 0x7f38bfdec198>"
            ]
          },
          "metadata": {
            "tags": []
          },
          "execution_count": 32
        },
        {
          "output_type": "display_data",
          "data": {
            "image/png": "[encoded data removed]",
            "text/plain": [
              "<Figure size 432x288 with 1 Axes>"
            ]
          },
          "metadata": {
            "tags": [],
            "needs_background": "light"
          }
        }
      ]
    },
    {
      "cell_type": "code",
      "metadata": {
        "id": "FGdcOFqYMesW",
        "colab": {
          "base_uri": "https://localhost:8080/",
          "height": 297
        },
        "outputId": "524b5783-67d4-4807-d300-ca5cd64af3b7"
      },
      "source": [
        "sns.boxplot(y='ApplicantIncome',x='Loan_Status',data=data)"
      ],
      "execution_count": 33,
      "outputs": [
        {
          "output_type": "execute_result",
          "data": {
            "text/plain": [
              "<matplotlib.axes._subplots.AxesSubplot at 0x7f38bfd61400>"
            ]
          },
          "metadata": {
            "tags": []
          },
          "execution_count": 33
        },
        {
          "output_type": "display_data",
          "data": {
            "image/png": "[encoded data removed]",
            "text/plain": [
              "<Figure size 432x288 with 1 Axes>"
            ]
          },
          "metadata": {
            "tags": [],
            "needs_background": "light"
          }
        }
      ]
    },
    {
      "cell_type": "code",
      "metadata": {
        "id": "KAKxGFjxMepA",
        "colab": {
          "base_uri": "https://localhost:8080/",
          "height": 296
        },
        "outputId": "e959ba2e-fffd-4913-cbf8-4b3070456187"
      },
      "source": [
        "sns.scatterplot(x='LoanAmount',y='ApplicantIncome',hue='Loan_Status',data=data)#Plot the Graph "
      ],
      "execution_count": 34,
      "outputs": [
        {
          "output_type": "execute_result",
          "data": {
            "text/plain": [
              "<matplotlib.axes._subplots.AxesSubplot at 0x7f38bfd968d0>"
            ]
          },
          "metadata": {
            "tags": []
          },
          "execution_count": 34
        },
        {
          "output_type": "display_data",
          "data": {
            "image/png": "[encoded data removed]",
            "text/plain": [
              "<Figure size 432x288 with 1 Axes>"
            ]
          },
          "metadata": {
            "tags": [],
            "needs_background": "light"
          }
        }
      ]
    },
    {
      "cell_type": "code",
      "metadata": {
        "id": "UnwyvsW_Osq2",
        "colab": {
          "base_uri": "https://localhost:8080/",
          "height": 400
        },
        "outputId": "1a27c5c6-fc7c-4e21-9aa0-446b9a4c31b0"
      },
      "source": [
        "sns.catplot(x='Dependents',y='CoapplicantIncome',hue='Loan_Status',kind='bar',data=data)"
      ],
      "execution_count": 35,
      "outputs": [
        {
          "output_type": "execute_result",
          "data": {
            "text/plain": [
              "<seaborn.axisgrid.FacetGrid at 0x7f38bfe77fd0>"
            ]
          },
          "metadata": {
            "tags": []
          },
          "execution_count": 35
        },
        {
          "output_type": "display_data",
          "data": {
            "image/png": "[encoded data removed]",
            "text/plain": [
              "<Figure size 428.625x360 with 1 Axes>"
            ]
          },
          "metadata": {
            "tags": [],
            "needs_background": "light"
          }
        }
      ]
    },
    {
      "cell_type": "code",
      "metadata": {
        "id": "IT_uwXIiPA6N",
        "colab": {
          "base_uri": "https://localhost:8080/",
          "height": 296
        },
        "outputId": "e2011c65-d93f-4848-e877-01f74b9fba9b"
      },
      "source": [
        "sns.stripplot(y=\"LoanAmount\",x=\"CoapplicantIncome\",data=data)"
      ],
      "execution_count": 36,
      "outputs": [
        {
          "output_type": "execute_result",
          "data": {
            "text/plain": [
              "<matplotlib.axes._subplots.AxesSubplot at 0x7f38bfde9e80>"
            ]
          },
          "metadata": {
            "tags": []
          },
          "execution_count": 36
        },
        {
          "output_type": "display_data",
          "data": {
            "image/png": "[encoded data removed]",
            "text/plain": [
              "<Figure size 432x288 with 1 Axes>"
            ]
          },
          "metadata": {
            "tags": [],
            "needs_background": "light"
          }
        }
      ]
    },
    {
      "cell_type": "code",
      "metadata": {
        "id": "wNtZFwNPUpwX",
        "colab": {
          "base_uri": "https://localhost:8080/",
          "height": 458
        },
        "outputId": "0456baa7-df57-4748-ba82-a188dd91453a"
      },
      "source": [
        "sns.jointplot(x='LoanAmount',y='Loan_Amount_Term',data=data)"
      ],
      "execution_count": 37,
      "outputs": [
        {
          "output_type": "execute_result",
          "data": {
            "text/plain": [
              "<seaborn.axisgrid.JointGrid at 0x7f38bfde91d0>"
            ]
          },
          "metadata": {
            "tags": []
          },
          "execution_count": 37
        },
        {
          "output_type": "display_data",
          "data": {
            "image/png": "[encoded data removed]",
            "text/plain": [
              "<Figure size 432x432 with 3 Axes>"
            ]
          },
          "metadata": {
            "tags": [],
            "needs_background": "light"
          }
        }
      ]
    },
    {
      "cell_type": "code",
      "metadata": {
        "colab": {
          "base_uri": "https://localhost:8080/",
          "height": 506
        },
        "id": "AHAzeF7_xX5X",
        "outputId": "9bf1b66d-ec6a-4eeb-9b1b-7d7bcf6cc98b"
      },
      "source": [
        "corr_df = data.corr(method='pearson')\r\n",
        "plt.figure(figsize=(8,4),dpi=100)\r\n",
        "sns.heatmap(corr_df,cmap='coolwarm',annot=True)"
      ],
      "execution_count": 38,
      "outputs": [
        {
          "output_type": "execute_result",
          "data": {
            "text/plain": [
              "<matplotlib.axes._subplots.AxesSubplot at 0x7f38bf750160>"
            ]
          },
          "metadata": {
            "tags": []
          },
          "execution_count": 38
        },
        {
          "output_type": "display_data",
          "data": {
            "image/png": "[encoded data removed]",
            "text/plain": [
              "<Figure size 800x400 with 2 Axes>"
            ]
          },
          "metadata": {
            "tags": [],
            "needs_background": "light"
          }
        }
      ]
    },
    {
      "cell_type": "code",
      "metadata": {
        "colab": {
          "base_uri": "https://localhost:8080/",
          "height": 606
        },
        "id": "0Tj5BSXLx6R3",
        "outputId": "a68455ea-a648-4972-9a8b-3d80fd6068c4"
      },
      "source": [
        "plt.figure(figsize=(15,7),dpi=100)\r\n",
        "sns.boxplot(data = data[['CoapplicantIncome', 'LoanAmount', 'Loan_Amount_Term',\r\n",
        "       'Credit_History','ApplicantIncome']])"
      ],
      "execution_count": 39,
      "outputs": [
        {
          "output_type": "execute_result",
          "data": {
            "text/plain": [
              "<matplotlib.axes._subplots.AxesSubplot at 0x7f38bff00470>"
            ]
          },
          "metadata": {
            "tags": []
          },
          "execution_count": 39
        },
        {
          "output_type": "display_data",
          "data": {
            "image/png": "[encoded data removed]",
            "text/plain": [
              "<Figure size 1500x700 with 1 Axes>"
            ]
          },
          "metadata": {
            "tags": [],
            "needs_background": "light"
          }
        }
      ]
    },
    {
      "cell_type": "markdown",
      "metadata": {
        "id": "drVuPPsUQkLQ"
      },
      "source": [
        "# Label Encoder "
      ]
    },
    {
      "cell_type": "code",
      "metadata": {
        "id": "DpHWTfZhQoOL"
      },
      "source": [
        "from sklearn import preprocessing#Label Encoder is use to convert string column value into integer \n",
        "lb=preprocessing.LabelEncoder()"
      ],
      "execution_count": 40,
      "outputs": []
    },
    {
      "cell_type": "code",
      "metadata": {
        "id": "mYLiTyGmQoJA"
      },
      "source": [
        "data['Gender']=lb.fit_transform(data['Gender'])\n",
        "data['Loan_ID']=lb.fit_transform(data['Loan_ID'])\n",
        "data['Married']=lb.fit_transform(data['Married'])\n",
        "data['Dependents']=lb.fit_transform(data['Dependents'])\n",
        "data['Education']=lb.fit_transform(data['Education'])\n",
        "data['Self_Employed']=lb.fit_transform(data['Self_Employed'])\n",
        "data['Property_Area']=lb.fit_transform(data['Property_Area'])\n",
        "data['Loan_Status']=lb.fit_transform(data['Loan_Status'])"
      ],
      "execution_count": 41,
      "outputs": []
    },
    {
      "cell_type": "code",
      "metadata": {
        "id": "ErcQTS5nQoE2",
        "colab": {
          "base_uri": "https://localhost:8080/"
        },
        "outputId": "499a67b7-dcc3-46e8-c53e-983c6ffbad78"
      },
      "source": [
        "data['Gender'].unique()"
      ],
      "execution_count": 42,
      "outputs": [
        {
          "output_type": "execute_result",
          "data": {
            "text/plain": [
              "array([1, 0])"
            ]
          },
          "metadata": {
            "tags": []
          },
          "execution_count": 42
        }
      ]
    },
    {
      "cell_type": "code",
      "metadata": {
        "id": "PtnNkJeBRkqj",
        "colab": {
          "base_uri": "https://localhost:8080/"
        },
        "outputId": "bc2867f7-307c-4b5a-d5a8-e8b550cd4cd4"
      },
      "source": [
        "data['Married'].unique()"
      ],
      "execution_count": 43,
      "outputs": [
        {
          "output_type": "execute_result",
          "data": {
            "text/plain": [
              "array([0, 1])"
            ]
          },
          "metadata": {
            "tags": []
          },
          "execution_count": 43
        }
      ]
    },
    {
      "cell_type": "code",
      "metadata": {
        "id": "qnQegqucRoTD",
        "colab": {
          "base_uri": "https://localhost:8080/"
        },
        "outputId": "6c1ca076-90b6-49e7-d896-d0a05faa8dcb"
      },
      "source": [
        "data['Dependents'].unique()"
      ],
      "execution_count": 44,
      "outputs": [
        {
          "output_type": "execute_result",
          "data": {
            "text/plain": [
              "array([0, 1, 2, 3])"
            ]
          },
          "metadata": {
            "tags": []
          },
          "execution_count": 44
        }
      ]
    },
    {
      "cell_type": "code",
      "metadata": {
        "id": "jw2ETFeKRswn",
        "colab": {
          "base_uri": "https://localhost:8080/"
        },
        "outputId": "e068708f-02a3-4654-d2de-2ef80824fc5f"
      },
      "source": [
        "data['Education'].unique()"
      ],
      "execution_count": 45,
      "outputs": [
        {
          "output_type": "execute_result",
          "data": {
            "text/plain": [
              "array([0, 1])"
            ]
          },
          "metadata": {
            "tags": []
          },
          "execution_count": 45
        }
      ]
    },
    {
      "cell_type": "code",
      "metadata": {
        "id": "FHzbnc08Rw2r",
        "colab": {
          "base_uri": "https://localhost:8080/"
        },
        "outputId": "6eaa2b1f-2e66-4849-f7bb-7e6a22a9c430"
      },
      "source": [
        "data['Self_Employed'].unique()"
      ],
      "execution_count": 46,
      "outputs": [
        {
          "output_type": "execute_result",
          "data": {
            "text/plain": [
              "array([0, 1])"
            ]
          },
          "metadata": {
            "tags": []
          },
          "execution_count": 46
        }
      ]
    },
    {
      "cell_type": "code",
      "metadata": {
        "id": "sZswcPmkR2lQ",
        "colab": {
          "base_uri": "https://localhost:8080/"
        },
        "outputId": "98047cf7-e82a-4486-a79d-c7e6fe7bd75c"
      },
      "source": [
        "data['Property_Area'].unique()"
      ],
      "execution_count": 47,
      "outputs": [
        {
          "output_type": "execute_result",
          "data": {
            "text/plain": [
              "array([2, 0, 1])"
            ]
          },
          "metadata": {
            "tags": []
          },
          "execution_count": 47
        }
      ]
    },
    {
      "cell_type": "code",
      "metadata": {
        "id": "5Tg8vjKWR8ac",
        "colab": {
          "base_uri": "https://localhost:8080/"
        },
        "outputId": "c220dc7a-92f9-4d65-eeda-fb492cbe20e3"
      },
      "source": [
        "data['Loan_Status'].unique()"
      ],
      "execution_count": 48,
      "outputs": [
        {
          "output_type": "execute_result",
          "data": {
            "text/plain": [
              "array([1, 0])"
            ]
          },
          "metadata": {
            "tags": []
          },
          "execution_count": 48
        }
      ]
    },
    {
      "cell_type": "code",
      "metadata": {
        "id": "iY4GknmkSqoy",
        "colab": {
          "base_uri": "https://localhost:8080/"
        },
        "outputId": "ddfc7f96-26a4-4c40-ef21-86e2f7a18f55"
      },
      "source": [
        "data.skew()"
      ],
      "execution_count": 49,
      "outputs": [
        {
          "output_type": "execute_result",
          "data": {
            "text/plain": [
              "Loan_ID              0.000000\n",
              "Gender              -1.687828\n",
              "Married             -0.620447\n",
              "Dependents           0.964127\n",
              "Education            1.389640\n",
              "Self_Employed        2.117792\n",
              "ApplicantIncome      6.944483\n",
              "CoapplicantIncome    5.930087\n",
              "LoanAmount           2.429971\n",
              "Loan_Amount_Term    -2.369259\n",
              "Credit_History      -1.895838\n",
              "Property_Area       -0.054992\n",
              "Loan_Status         -0.769382\n",
              "dtype: float64"
            ]
          },
          "metadata": {
            "tags": []
          },
          "execution_count": 49
        }
      ]
    },
    {
      "cell_type": "markdown",
      "metadata": {
        "id": "19NhihufPrBE"
      },
      "source": [
        "# Outliers Detection With the help of box Plot"
      ]
    },
    {
      "cell_type": "code",
      "metadata": {
        "id": "0cJaBy3vWl8-",
        "colab": {
          "base_uri": "https://localhost:8080/",
          "height": 282
        },
        "outputId": "389e97a1-98fe-4fd2-811c-b8c32dd5da53"
      },
      "source": [
        "data['ApplicantIncome'].plot.box()"
      ],
      "execution_count": 50,
      "outputs": [
        {
          "output_type": "execute_result",
          "data": {
            "text/plain": [
              "<matplotlib.axes._subplots.AxesSubplot at 0x7f38bf462550>"
            ]
          },
          "metadata": {
            "tags": []
          },
          "execution_count": 50
        },
        {
          "output_type": "display_data",
          "data": {
            "image/png": "[encoded data removed]",
            "text/plain": [
              "<Figure size 432x288 with 1 Axes>"
            ]
          },
          "metadata": {
            "tags": [],
            "needs_background": "light"
          }
        }
      ]
    },
    {
      "cell_type": "code",
      "metadata": {
        "id": "tAokZayXWl9D",
        "colab": {
          "base_uri": "https://localhost:8080/",
          "height": 283
        },
        "outputId": "2b91a138-6d4f-4d4d-903e-61a6ccc534d8"
      },
      "source": [
        "data['CoapplicantIncome'].plot.box()"
      ],
      "execution_count": 51,
      "outputs": [
        {
          "output_type": "execute_result",
          "data": {
            "text/plain": [
              "<matplotlib.axes._subplots.AxesSubplot at 0x7f38bf3db278>"
            ]
          },
          "metadata": {
            "tags": []
          },
          "execution_count": 51
        },
        {
          "output_type": "display_data",
          "data": {
            "image/png": "[encoded data removed]",
            "text/plain": [
              "<Figure size 432x288 with 1 Axes>"
            ]
          },
          "metadata": {
            "tags": [],
            "needs_background": "light"
          }
        }
      ]
    },
    {
      "cell_type": "code",
      "metadata": {
        "id": "z72d2O0uWl9J",
        "colab": {
          "base_uri": "https://localhost:8080/",
          "height": 282
        },
        "outputId": "c025aa3c-901e-45be-a477-a9041b10cda8"
      },
      "source": [
        "data['LoanAmount'].plot.box()"
      ],
      "execution_count": 52,
      "outputs": [
        {
          "output_type": "execute_result",
          "data": {
            "text/plain": [
              "<matplotlib.axes._subplots.AxesSubplot at 0x7f38bf3ba898>"
            ]
          },
          "metadata": {
            "tags": []
          },
          "execution_count": 52
        },
        {
          "output_type": "display_data",
          "data": {
            "image/png": "[encoded data removed]",
            "text/plain": [
              "<Figure size 432x288 with 1 Axes>"
            ]
          },
          "metadata": {
            "tags": [],
            "needs_background": "light"
          }
        }
      ]
    },
    {
      "cell_type": "code",
      "metadata": {
        "id": "YWa7hKDzWl9O",
        "colab": {
          "base_uri": "https://localhost:8080/",
          "height": 286
        },
        "outputId": "d33501a6-e824-417d-e9b8-8a7ab5dd8243"
      },
      "source": [
        "data['Loan_Amount_Term'].plot.box()"
      ],
      "execution_count": 53,
      "outputs": [
        {
          "output_type": "execute_result",
          "data": {
            "text/plain": [
              "<matplotlib.axes._subplots.AxesSubplot at 0x7f38bf380c88>"
            ]
          },
          "metadata": {
            "tags": []
          },
          "execution_count": 53
        },
        {
          "output_type": "display_data",
          "data": {
            "image/png": "[encoded data removed]",
            "text/plain": [
              "<Figure size 432x288 with 1 Axes>"
            ]
          },
          "metadata": {
            "tags": [],
            "needs_background": "light"
          }
        }
      ]
    },
    {
      "cell_type": "code",
      "metadata": {
        "id": "vmL3JWIOvUoj",
        "colab": {
          "base_uri": "https://localhost:8080/"
        },
        "outputId": "93c4355b-bc6f-4ec7-c7ce-a047bc45c9bb"
      },
      "source": [
        "data.shape"
      ],
      "execution_count": 54,
      "outputs": [
        {
          "output_type": "execute_result",
          "data": {
            "text/plain": [
              "(511, 13)"
            ]
          },
          "metadata": {
            "tags": []
          },
          "execution_count": 54
        }
      ]
    },
    {
      "cell_type": "code",
      "metadata": {
        "id": "rq_oqDLxTW2Y",
        "colab": {
          "base_uri": "https://localhost:8080/"
        },
        "outputId": "2e07786b-ce80-49d8-eeb5-18bba73f8398"
      },
      "source": [
        "from scipy import stats #Z-Score used to remove the Outliers \n",
        "import numpy as np\n",
        "z = np.abs(stats.zscore(data))\n",
        "print(z)"
      ],
      "execution_count": 55,
      "outputs": [
        {
          "output_type": "stream",
          "text": [
            "[[1.72866459 0.46547467 1.35605637 ... 0.43083042 1.23673501 0.68747544]\n",
            " [1.72188551 0.46547467 0.73743247 ... 0.43083042 1.31668555 1.45459742]\n",
            " [1.71510643 0.46547467 0.73743247 ... 0.43083042 1.23673501 0.68747544]\n",
            " ...\n",
            " [1.71510643 0.46547467 0.73743247 ... 0.43083042 1.23673501 0.68747544]\n",
            " [1.72188551 0.46547467 0.73743247 ... 0.43083042 1.23673501 0.68747544]\n",
            " [1.72866459 2.14834462 1.35605637 ... 2.32109888 0.03997527 1.45459742]]\n"
          ],
          "name": "stdout"
        }
      ]
    },
    {
      "cell_type": "code",
      "metadata": {
        "id": "uv47ZpulTX4q",
        "colab": {
          "base_uri": "https://localhost:8080/"
        },
        "outputId": "731a120f-37ec-4362-9cb7-85a410a45c79"
      },
      "source": [
        "threshold = 3 #Set the threshold Values \n",
        "print(np.where(z > 3))"
      ],
      "execution_count": 56,
      "outputs": [
        {
          "output_type": "stream",
          "text": [
            "(array([  9,  13,  60,  83, 110, 132, 132, 150, 150, 155, 157, 204, 222,\n",
            "       237, 263, 308, 311, 335, 342, 349, 373, 407, 413, 436, 438, 454,\n",
            "       468, 480, 484, 487, 501]), array([7, 9, 9, 9, 9, 6, 8, 7, 8, 6, 6, 9, 9, 8, 8, 8, 8, 7, 6, 7, 6, 8,\n",
            "       9, 8, 8, 9, 8, 9, 7, 9, 8]))\n"
          ],
          "name": "stdout"
        }
      ]
    },
    {
      "cell_type": "code",
      "metadata": {
        "id": "SuL01xEQTYHq"
      },
      "source": [
        "data= data[(z < 3).all(axis=1)]"
      ],
      "execution_count": 57,
      "outputs": []
    },
    {
      "cell_type": "code",
      "metadata": {
        "id": "JwswLD90Wl-M",
        "colab": {
          "base_uri": "https://localhost:8080/"
        },
        "outputId": "1c5d479a-1b57-4266-f159-52a575d128b6"
      },
      "source": [
        "data.skew()"
      ],
      "execution_count": 58,
      "outputs": [
        {
          "output_type": "execute_result",
          "data": {
            "text/plain": [
              "Loan_ID              0.014297\n",
              "Gender              -1.666661\n",
              "Married             -0.599500\n",
              "Dependents           1.003054\n",
              "Education            1.342091\n",
              "Self_Employed        2.225448\n",
              "ApplicantIncome      2.127928\n",
              "CoapplicantIncome    1.345582\n",
              "LoanAmount           1.000741\n",
              "Loan_Amount_Term    -2.059336\n",
              "Credit_History      -1.863184\n",
              "Property_Area       -0.058816\n",
              "Loan_Status         -0.797253\n",
              "dtype: float64"
            ]
          },
          "metadata": {
            "tags": []
          },
          "execution_count": 58
        }
      ]
    },
    {
      "cell_type": "code",
      "metadata": {
        "id": "syde14JfvY7-",
        "colab": {
          "base_uri": "https://localhost:8080/"
        },
        "outputId": "e42af1cf-086f-4ff3-dae5-429e81802d2e"
      },
      "source": [
        "data.shape"
      ],
      "execution_count": 59,
      "outputs": [
        {
          "output_type": "execute_result",
          "data": {
            "text/plain": [
              "(482, 13)"
            ]
          },
          "metadata": {
            "tags": []
          },
          "execution_count": 59
        }
      ]
    },
    {
      "cell_type": "code",
      "metadata": {
        "id": "awqACNrKWl-R",
        "colab": {
          "base_uri": "https://localhost:8080/",
          "height": 682
        },
        "outputId": "5a500ca0-d443-4ee5-d5ed-b8d6892ca73d"
      },
      "source": [
        "plt.figure(figsize = (10,10))\n",
        "sns.heatmap(data.corr(), annot = True, )\n",
        "plt.show()"
      ],
      "execution_count": 60,
      "outputs": [
        {
          "output_type": "display_data",
          "data": {
            "image/png": "[encoded data removed]",
            "text/plain": [
              "<Figure size 720x720 with 2 Axes>"
            ]
          },
          "metadata": {
            "tags": [],
            "needs_background": "light"
          }
        }
      ]
    },
    {
      "cell_type": "code",
      "metadata": {
        "colab": {
          "base_uri": "https://localhost:8080/"
        },
        "id": "1o8s524Ev-6C",
        "outputId": "13447704-a38d-4669-ab5b-0826d6b426a9"
      },
      "source": [
        "data.columns"
      ],
      "execution_count": 61,
      "outputs": [
        {
          "output_type": "execute_result",
          "data": {
            "text/plain": [
              "Index(['Loan_ID', 'Gender', 'Married', 'Dependents', 'Education',\n",
              "       'Self_Employed', 'ApplicantIncome', 'CoapplicantIncome', 'LoanAmount',\n",
              "       'Loan_Amount_Term', 'Credit_History', 'Property_Area', 'Loan_Status'],\n",
              "      dtype='object')"
            ]
          },
          "metadata": {
            "tags": []
          },
          "execution_count": 61
        }
      ]
    },
    {
      "cell_type": "code",
      "metadata": {
        "id": "KR0KH2VjWmBm"
      },
      "source": [
        "x=data[['Loan_ID', 'Gender', 'Married', 'Dependents', 'Education',\n",
        "       'Self_Employed', 'ApplicantIncome', 'CoapplicantIncome', 'LoanAmount',\n",
        "       'Loan_Amount_Term', 'Credit_History', 'Property_Area',]].copy()"
      ],
      "execution_count": 62,
      "outputs": []
    },
    {
      "cell_type": "code",
      "metadata": {
        "id": "-N09woc9WmB6",
        "colab": {
          "base_uri": "https://localhost:8080/"
        },
        "outputId": "076508b5-3cdf-4e64-d54e-e2f53e0a0a01"
      },
      "source": [
        "x.shape"
      ],
      "execution_count": 63,
      "outputs": [
        {
          "output_type": "execute_result",
          "data": {
            "text/plain": [
              "(482, 12)"
            ]
          },
          "metadata": {
            "tags": []
          },
          "execution_count": 63
        }
      ]
    },
    {
      "cell_type": "code",
      "metadata": {
        "id": "iwuzGvUCWmB9"
      },
      "source": [
        "y=data['Loan_Status']"
      ],
      "execution_count": 64,
      "outputs": []
    },
    {
      "cell_type": "code",
      "metadata": {
        "id": "Y4a6PBIlWmCG",
        "colab": {
          "base_uri": "https://localhost:8080/"
        },
        "outputId": "0c2324c1-323b-44d2-f997-3e7bc01608e6"
      },
      "source": [
        "y.shape"
      ],
      "execution_count": 65,
      "outputs": [
        {
          "output_type": "execute_result",
          "data": {
            "text/plain": [
              "(482,)"
            ]
          },
          "metadata": {
            "tags": []
          },
          "execution_count": 65
        }
      ]
    },
    {
      "cell_type": "code",
      "metadata": {
        "id": "I7nav36AwKdL"
      },
      "source": [
        "# Important feature using ExtraTreesRegressor\n",
        "from sklearn.ensemble import ExtraTreesClassifier \n",
        "selection = ExtraTreesClassifier()\n",
        "selection=selection.fit(x, y)"
      ],
      "execution_count": 66,
      "outputs": []
    },
    {
      "cell_type": "code",
      "metadata": {
        "colab": {
          "base_uri": "https://localhost:8080/"
        },
        "id": "N2CokDzAwT47",
        "outputId": "97d90026-6976-40c3-ad6d-9b180999112b"
      },
      "source": [
        "print(selection.feature_importances_)"
      ],
      "execution_count": 67,
      "outputs": [
        {
          "output_type": "stream",
          "text": [
            "[0.12757359 0.02099037 0.02341333 0.05534647 0.02187237 0.01865038\n",
            " 0.12915432 0.08426587 0.12333442 0.04453792 0.29287054 0.05799041]\n"
          ],
          "name": "stdout"
        }
      ]
    },
    {
      "cell_type": "code",
      "metadata": {
        "colab": {
          "base_uri": "https://localhost:8080/",
          "height": 483
        },
        "id": "gDYpMtn9wUTn",
        "outputId": "71ff9b2a-0c1e-4482-ab56-178fefe1cd10"
      },
      "source": [
        "#plot graph of feature importances for better visualization\n",
        "plt.figure(figsize = (10,8))\n",
        "feat_importances = pd.Series(selection.feature_importances_, index=x.columns)\n",
        "feat_importances.nlargest(20).plot(kind='barh')\n",
        "plt.show()"
      ],
      "execution_count": 68,
      "outputs": [
        {
          "output_type": "display_data",
          "data": {
            "image/png": "[encoded data removed]",
            "text/plain": [
              "<Figure size 720x576 with 1 Axes>"
            ]
          },
          "metadata": {
            "tags": [],
            "needs_background": "light"
          }
        }
      ]
    },
    {
      "cell_type": "code",
      "metadata": {
        "id": "Ie_R3dhEwbpz"
      },
      "source": [
        "from sklearn.feature_selection import SelectFromModel\n",
        "selector = SelectFromModel(selection, prefit=True)\n",
        "x = selector.transform(x)"
      ],
      "execution_count": 69,
      "outputs": []
    },
    {
      "cell_type": "code",
      "metadata": {
        "colab": {
          "base_uri": "https://localhost:8080/"
        },
        "id": "94Kf9fZewyPB",
        "outputId": "d8ea8b50-3136-47d3-d2ee-14ef9be8c5d7"
      },
      "source": [
        "x.shape"
      ],
      "execution_count": 70,
      "outputs": [
        {
          "output_type": "execute_result",
          "data": {
            "text/plain": [
              "(482, 5)"
            ]
          },
          "metadata": {
            "tags": []
          },
          "execution_count": 70
        }
      ]
    },
    {
      "cell_type": "code",
      "metadata": {
        "id": "GVz9lDjKWmCJ"
      },
      "source": [
        "y=y.values.reshape(-1,1)"
      ],
      "execution_count": 71,
      "outputs": []
    },
    {
      "cell_type": "code",
      "metadata": {
        "id": "ToxZ1_ojWmCW",
        "colab": {
          "base_uri": "https://localhost:8080/"
        },
        "outputId": "0feb88d6-c7f0-4141-d4ea-1a5449b3427c"
      },
      "source": [
        "y.shape"
      ],
      "execution_count": 72,
      "outputs": [
        {
          "output_type": "execute_result",
          "data": {
            "text/plain": [
              "(482, 1)"
            ]
          },
          "metadata": {
            "tags": []
          },
          "execution_count": 72
        }
      ]
    },
    {
      "cell_type": "code",
      "metadata": {
        "id": "61R5UthKWmCZ"
      },
      "source": [
        "x_train,x_test,y_train,y_test=train_test_split(x,y,train_size=0.70,test_size=0.30,random_state=42)"
      ],
      "execution_count": 73,
      "outputs": []
    },
    {
      "cell_type": "code",
      "metadata": {
        "id": "rkxOCIZjWmCf",
        "colab": {
          "base_uri": "https://localhost:8080/"
        },
        "outputId": "8e112e8e-0e35-4c94-df0e-fef6d2883401"
      },
      "source": [
        "x_train.shape"
      ],
      "execution_count": 74,
      "outputs": [
        {
          "output_type": "execute_result",
          "data": {
            "text/plain": [
              "(337, 5)"
            ]
          },
          "metadata": {
            "tags": []
          },
          "execution_count": 74
        }
      ]
    },
    {
      "cell_type": "code",
      "metadata": {
        "id": "b1qiCOUVWmCm",
        "colab": {
          "base_uri": "https://localhost:8080/"
        },
        "outputId": "adca4400-b397-48c4-d2ea-c458f9f53154"
      },
      "source": [
        "x_test.shape"
      ],
      "execution_count": 75,
      "outputs": [
        {
          "output_type": "execute_result",
          "data": {
            "text/plain": [
              "(145, 5)"
            ]
          },
          "metadata": {
            "tags": []
          },
          "execution_count": 75
        }
      ]
    },
    {
      "cell_type": "code",
      "metadata": {
        "id": "_WZ3o1X7WmCp",
        "colab": {
          "base_uri": "https://localhost:8080/"
        },
        "outputId": "88252a43-986e-4640-80ca-5cefb7bad2a6"
      },
      "source": [
        "y_train.shape"
      ],
      "execution_count": 76,
      "outputs": [
        {
          "output_type": "execute_result",
          "data": {
            "text/plain": [
              "(337, 1)"
            ]
          },
          "metadata": {
            "tags": []
          },
          "execution_count": 76
        }
      ]
    },
    {
      "cell_type": "code",
      "metadata": {
        "id": "HWmAXY5iWmCs",
        "colab": {
          "base_uri": "https://localhost:8080/"
        },
        "outputId": "4addc812-6c61-4b98-f8bf-5665afc7cf41"
      },
      "source": [
        "y_test.shape"
      ],
      "execution_count": 77,
      "outputs": [
        {
          "output_type": "execute_result",
          "data": {
            "text/plain": [
              "(145, 1)"
            ]
          },
          "metadata": {
            "tags": []
          },
          "execution_count": 77
        }
      ]
    },
    {
      "cell_type": "code",
      "metadata": {
        "id": "SntdkAuLWTCz",
        "colab": {
          "base_uri": "https://localhost:8080/"
        },
        "outputId": "cafb194a-09a3-4edd-851d-3c41e311ac8b"
      },
      "source": [
        "from sklearn.linear_model import LogisticRegression\n",
        "lr = LogisticRegression(random_state=5)\n",
        "lr.fit(x_train,y_train)"
      ],
      "execution_count": 78,
      "outputs": [
        {
          "output_type": "execute_result",
          "data": {
            "text/plain": [
              "LogisticRegression(C=1.0, class_weight=None, dual=False, fit_intercept=True,\n",
              "                   intercept_scaling=1, l1_ratio=None, max_iter=100,\n",
              "                   multi_class='auto', n_jobs=None, penalty='l2',\n",
              "                   random_state=5, solver='lbfgs', tol=0.0001, verbose=0,\n",
              "                   warm_start=False)"
            ]
          },
          "metadata": {
            "tags": []
          },
          "execution_count": 78
        }
      ]
    },
    {
      "cell_type": "code",
      "metadata": {
        "id": "I5l7DM4CWS_B",
        "colab": {
          "base_uri": "https://localhost:8080/"
        },
        "outputId": "9495a58e-8557-4f11-e5de-eb2bc2abcf2a"
      },
      "source": [
        "pred=lr.predict(x_test)#Pred\n",
        "print(' prediction \\n',pred)#Print Prediction Value \n",
        "lr=print('accuracy score\\n',accuracy_score(pred,y_test))\n",
        "print('confusion metrix\\n',confusion_matrix(pred,y_test))\n",
        "print('classification Report \\n',classification_report(pred,y_test))"
      ],
      "execution_count": 79,
      "outputs": [
        {
          "output_type": "stream",
          "text": [
            " prediction \n",
            " [1 1 1 1 0 1 1 1 1 1 1 1 1 1 1 1 1 1 1 1 1 1 0 1 1 1 1 1 1 1 1 0 1 1 1 1 1\n",
            " 1 0 1 0 1 1 1 1 1 1 1 1 1 0 1 1 0 1 1 1 0 1 1 1 0 1 1 1 1 0 1 1 1 1 1 1 1\n",
            " 1 1 1 1 1 1 1 1 1 1 1 0 1 0 1 0 1 0 1 0 1 1 1 1 1 1 0 1 1 1 1 1 1 0 1 1 1\n",
            " 1 1 1 0 1 1 1 1 1 1 1 1 1 1 1 1 0 1 1 1 1 1 1 1 1 1 0 1 1 1 1 1 1 1]\n",
            "accuracy score\n",
            " 0.8482758620689655\n",
            "confusion metrix\n",
            " [[ 19   1]\n",
            " [ 21 104]]\n",
            "classification Report \n",
            "               precision    recall  f1-score   support\n",
            "\n",
            "           0       0.47      0.95      0.63        20\n",
            "           1       0.99      0.83      0.90       125\n",
            "\n",
            "    accuracy                           0.85       145\n",
            "   macro avg       0.73      0.89      0.77       145\n",
            "weighted avg       0.92      0.85      0.87       145\n",
            "\n"
          ],
          "name": "stdout"
        }
      ]
    },
    {
      "cell_type": "code",
      "metadata": {
        "id": "LZG89zD0WmCv",
        "colab": {
          "base_uri": "https://localhost:8080/"
        },
        "outputId": "8231c477-f1df-4fee-ffde-c8144847de6c"
      },
      "source": [
        "from sklearn.naive_bayes import GaussianNB \n",
        "gn=GaussianNB()\n",
        "gn.fit(x_train, y_train)"
      ],
      "execution_count": 80,
      "outputs": [
        {
          "output_type": "execute_result",
          "data": {
            "text/plain": [
              "GaussianNB(priors=None, var_smoothing=1e-09)"
            ]
          },
          "metadata": {
            "tags": []
          },
          "execution_count": 80
        }
      ]
    },
    {
      "cell_type": "code",
      "metadata": {
        "id": "kWOpYhLHWmC8",
        "colab": {
          "base_uri": "https://localhost:8080/"
        },
        "outputId": "d0f7b31c-e32c-4546-a80e-e8bde834cfa8"
      },
      "source": [
        "pred=gn.predict(x_test)\n",
        "print(' prediction \\n',pred)\n",
        "print('accuracy score\\n',accuracy_score(pred,y_test))\n",
        "print('confusion metrix\\n',confusion_matrix(pred,y_test))\n",
        "print('classification Report \\n',classification_report(pred,y_test))"
      ],
      "execution_count": 81,
      "outputs": [
        {
          "output_type": "stream",
          "text": [
            " prediction \n",
            " [1 1 1 1 0 1 1 1 1 1 1 1 1 1 1 1 1 1 1 1 1 1 0 1 1 1 1 1 1 1 1 0 1 1 1 1 1\n",
            " 1 0 1 0 1 1 1 1 1 1 1 1 1 0 1 1 0 1 1 1 0 1 1 1 0 1 1 1 1 0 1 1 1 1 1 1 1\n",
            " 1 1 1 1 1 1 1 1 1 1 1 0 1 0 1 0 1 0 1 0 1 1 1 1 1 1 0 1 1 1 1 1 1 0 1 1 1\n",
            " 1 1 1 0 1 1 1 1 1 1 1 1 1 1 1 1 0 1 1 1 1 1 1 1 1 1 0 1 1 1 1 1 1 1]\n",
            "accuracy score\n",
            " 0.8482758620689655\n",
            "confusion metrix\n",
            " [[ 19   1]\n",
            " [ 21 104]]\n",
            "classification Report \n",
            "               precision    recall  f1-score   support\n",
            "\n",
            "           0       0.47      0.95      0.63        20\n",
            "           1       0.99      0.83      0.90       125\n",
            "\n",
            "    accuracy                           0.85       145\n",
            "   macro avg       0.73      0.89      0.77       145\n",
            "weighted avg       0.92      0.85      0.87       145\n",
            "\n"
          ],
          "name": "stdout"
        }
      ]
    },
    {
      "cell_type": "code",
      "metadata": {
        "id": "Rx0y3T4XWgzB",
        "colab": {
          "base_uri": "https://localhost:8080/"
        },
        "outputId": "c948e0ed-3a3d-4b8d-da6d-37699cf2d403"
      },
      "source": [
        "from sklearn.neighbors import KNeighborsClassifier#KNN ALgorithem to learn the model for prediction \n",
        "knc = KNeighborsClassifier(n_neighbors=49)\n",
        "knc.fit(x_train, y_train)#Fit the model "
      ],
      "execution_count": 82,
      "outputs": [
        {
          "output_type": "execute_result",
          "data": {
            "text/plain": [
              "KNeighborsClassifier(algorithm='auto', leaf_size=30, metric='minkowski',\n",
              "                     metric_params=None, n_jobs=None, n_neighbors=49, p=2,\n",
              "                     weights='uniform')"
            ]
          },
          "metadata": {
            "tags": []
          },
          "execution_count": 82
        }
      ]
    },
    {
      "cell_type": "code",
      "metadata": {
        "id": "JqKEs9FSWjrI",
        "colab": {
          "base_uri": "https://localhost:8080/"
        },
        "outputId": "55822220-0d5e-4a41-8222-55bda0b90e53"
      },
      "source": [
        "pred=knc.predict(x_test)#Pred\n",
        "print(' prediction \\n',pred)#print the predicted Value \n",
        "knc=print('accuracy score\\n',accuracy_score(pred,y_test))#Accuracy SCore \n",
        "print('confusion metrix\\n',confusion_matrix(pred,y_test))#Confusion metrix\n",
        "print('classification Report \\n',classification_report(pred,y_test))#Classsifiaction Report "
      ],
      "execution_count": 83,
      "outputs": [
        {
          "output_type": "stream",
          "text": [
            " prediction \n",
            " [1 1 1 1 1 1 1 1 1 1 1 1 1 1 1 1 1 1 1 1 1 1 1 1 1 1 1 1 1 1 1 1 1 1 1 1 1\n",
            " 1 1 1 1 1 1 1 1 1 1 1 1 1 1 1 1 1 1 1 1 1 1 1 1 1 1 1 1 1 1 1 1 1 1 1 1 1\n",
            " 1 1 1 1 1 1 1 1 1 1 1 1 1 1 1 1 1 1 1 1 1 1 1 1 1 1 1 1 1 1 1 1 1 1 1 1 1\n",
            " 1 1 1 1 1 1 1 1 1 1 1 1 1 1 1 1 1 1 1 1 1 1 1 1 1 1 1 1 1 1 1 1 1 1]\n",
            "accuracy score\n",
            " 0.7241379310344828\n",
            "confusion metrix\n",
            " [[  0   0]\n",
            " [ 40 105]]\n",
            "classification Report \n",
            "               precision    recall  f1-score   support\n",
            "\n",
            "           0       0.00      0.00      0.00         0\n",
            "           1       1.00      0.72      0.84       145\n",
            "\n",
            "    accuracy                           0.72       145\n",
            "   macro avg       0.50      0.36      0.42       145\n",
            "weighted avg       1.00      0.72      0.84       145\n",
            "\n"
          ],
          "name": "stdout"
        }
      ]
    },
    {
      "cell_type": "code",
      "metadata": {
        "id": "SN_zdidgWmCf",
        "colab": {
          "base_uri": "https://localhost:8080/"
        },
        "outputId": "bd5891b8-24a4-449d-8a58-8021d7854281"
      },
      "source": [
        "from sklearn.svm import SVC\n",
        "svc=SVC()\n",
        "svc.fit(x_train,y_train)"
      ],
      "execution_count": 84,
      "outputs": [
        {
          "output_type": "execute_result",
          "data": {
            "text/plain": [
              "SVC(C=1.0, break_ties=False, cache_size=200, class_weight=None, coef0=0.0,\n",
              "    decision_function_shape='ovr', degree=3, gamma='scale', kernel='rbf',\n",
              "    max_iter=-1, probability=False, random_state=None, shrinking=True,\n",
              "    tol=0.001, verbose=False)"
            ]
          },
          "metadata": {
            "tags": []
          },
          "execution_count": 84
        }
      ]
    },
    {
      "cell_type": "code",
      "metadata": {
        "id": "pq5iVVDYWqxd",
        "colab": {
          "base_uri": "https://localhost:8080/"
        },
        "outputId": "56779a49-5514-4b99-fd55-86b429cd67b3"
      },
      "source": [
        "pred=svc.predict(x_test)#Pred\n",
        "print(' prediction \\n',pred)#print the predicted Value \n",
        "svc=print('accuracy score\\n',accuracy_score(pred,y_test))#Accuracy SCore \n",
        "print('confusion metrix\\n',confusion_matrix(pred,y_test))#Confusion metrix\n",
        "print('classification Report \\n',classification_report(pred,y_test))#Classsifiaction Report "
      ],
      "execution_count": 85,
      "outputs": [
        {
          "output_type": "stream",
          "text": [
            " prediction \n",
            " [1 1 1 1 1 1 1 1 1 1 1 1 1 1 1 1 1 1 1 1 1 1 1 1 1 1 1 1 1 1 1 1 1 1 1 1 1\n",
            " 1 1 1 1 1 1 1 1 1 1 1 1 1 1 1 1 1 1 1 1 1 1 1 1 1 1 1 1 1 1 1 1 1 1 1 1 1\n",
            " 1 1 1 1 1 1 1 1 1 1 1 1 1 1 1 1 1 1 1 1 1 1 1 1 1 1 1 1 1 1 1 1 1 1 1 1 1\n",
            " 1 1 1 1 1 1 1 1 1 1 1 1 1 1 1 1 1 1 1 1 1 1 1 1 1 1 1 1 1 1 1 1 1 1]\n",
            "accuracy score\n",
            " 0.7241379310344828\n",
            "confusion metrix\n",
            " [[  0   0]\n",
            " [ 40 105]]\n",
            "classification Report \n",
            "               precision    recall  f1-score   support\n",
            "\n",
            "           0       0.00      0.00      0.00         0\n",
            "           1       1.00      0.72      0.84       145\n",
            "\n",
            "    accuracy                           0.72       145\n",
            "   macro avg       0.50      0.36      0.42       145\n",
            "weighted avg       1.00      0.72      0.84       145\n",
            "\n"
          ],
          "name": "stdout"
        }
      ]
    },
    {
      "cell_type": "code",
      "metadata": {
        "id": "URdL9NLGWs8R",
        "colab": {
          "base_uri": "https://localhost:8080/"
        },
        "outputId": "93375dc6-0c5c-466b-aa19-43b9b13665d0"
      },
      "source": [
        "from sklearn.tree import DecisionTreeClassifier\n",
        "tree= DecisionTreeClassifier() #max_leaf_nodes=12 #random_state=1\n",
        "tree.fit(x_train,y_train)"
      ],
      "execution_count": 86,
      "outputs": [
        {
          "output_type": "execute_result",
          "data": {
            "text/plain": [
              "DecisionTreeClassifier(ccp_alpha=0.0, class_weight=None, criterion='gini',\n",
              "                       max_depth=None, max_features=None, max_leaf_nodes=None,\n",
              "                       min_impurity_decrease=0.0, min_impurity_split=None,\n",
              "                       min_samples_leaf=1, min_samples_split=2,\n",
              "                       min_weight_fraction_leaf=0.0, presort='deprecated',\n",
              "                       random_state=None, splitter='best')"
            ]
          },
          "metadata": {
            "tags": []
          },
          "execution_count": 86
        }
      ]
    },
    {
      "cell_type": "code",
      "metadata": {
        "id": "A6yKa9D8Wwjy",
        "colab": {
          "base_uri": "https://localhost:8080/"
        },
        "outputId": "307a2f9e-995a-441a-8fcd-f49822d5381a"
      },
      "source": [
        "pred=tree.predict(x_test)#Pred\n",
        "print(' prediction \\n',pred)#print the predicted Value \n",
        "tree=print('accuracy score\\n',accuracy_score(pred,y_test))#Accuracy SCore \n",
        "print('confusion metrix\\n',confusion_matrix(pred,y_test))#Confusion metrix\n",
        "print('classification Report \\n',classification_report(pred,y_test))#Classsifiaction Report "
      ],
      "execution_count": 87,
      "outputs": [
        {
          "output_type": "stream",
          "text": [
            " prediction \n",
            " [1 1 1 1 0 1 0 0 1 1 1 1 1 1 1 0 1 0 1 1 1 1 0 0 1 1 1 1 1 1 1 0 1 1 1 1 1\n",
            " 1 0 1 0 1 1 1 1 1 0 1 1 1 0 0 1 0 0 1 1 0 0 1 0 0 1 1 1 1 0 0 0 1 1 1 0 1\n",
            " 1 1 1 1 1 1 1 1 1 1 0 0 1 0 1 0 0 0 1 0 1 1 0 1 0 1 0 1 1 0 1 0 1 0 0 1 0\n",
            " 1 1 1 0 1 1 1 1 0 0 1 0 1 1 1 1 0 1 1 1 1 1 1 1 1 1 0 1 1 1 0 0 1 1]\n",
            "accuracy score\n",
            " 0.7241379310344828\n",
            "confusion metrix\n",
            " [[23 23]\n",
            " [17 82]]\n",
            "classification Report \n",
            "               precision    recall  f1-score   support\n",
            "\n",
            "           0       0.57      0.50      0.53        46\n",
            "           1       0.78      0.83      0.80        99\n",
            "\n",
            "    accuracy                           0.72       145\n",
            "   macro avg       0.68      0.66      0.67       145\n",
            "weighted avg       0.72      0.72      0.72       145\n",
            "\n"
          ],
          "name": "stdout"
        }
      ]
    },
    {
      "cell_type": "code",
      "metadata": {
        "id": "ft3FPxcBWy13",
        "colab": {
          "base_uri": "https://localhost:8080/"
        },
        "outputId": "bbff70c1-ee70-4835-c782-aaf8b716dedd"
      },
      "source": [
        "from sklearn.ensemble import RandomForestClassifier\n",
        "b = RandomForestClassifier(max_leaf_nodes=14)\n",
        "b.fit(x_train,y_train)"
      ],
      "execution_count": 88,
      "outputs": [
        {
          "output_type": "execute_result",
          "data": {
            "text/plain": [
              "RandomForestClassifier(bootstrap=True, ccp_alpha=0.0, class_weight=None,\n",
              "                       criterion='gini', max_depth=None, max_features='auto',\n",
              "                       max_leaf_nodes=14, max_samples=None,\n",
              "                       min_impurity_decrease=0.0, min_impurity_split=None,\n",
              "                       min_samples_leaf=1, min_samples_split=2,\n",
              "                       min_weight_fraction_leaf=0.0, n_estimators=100,\n",
              "                       n_jobs=None, oob_score=False, random_state=None,\n",
              "                       verbose=0, warm_start=False)"
            ]
          },
          "metadata": {
            "tags": []
          },
          "execution_count": 88
        }
      ]
    },
    {
      "cell_type": "code",
      "metadata": {
        "id": "pw_kXRbQW2g_",
        "colab": {
          "base_uri": "https://localhost:8080/"
        },
        "outputId": "3a0e254e-f36f-4570-e2d3-3cb561927d30"
      },
      "source": [
        "pred=b.predict(x_test)#Pred\n",
        "print(' prediction \\n',pred)#print the predicted Value \n",
        "b=print('accuracy score\\n',accuracy_score(pred,y_test))#Accuracy SCore \n",
        "print('confusion metrix\\n',confusion_matrix(pred,y_test))#Confusion metrix\n",
        "print('classification Report \\n',classification_report(pred,y_test))#Classsifiaction Report "
      ],
      "execution_count": 89,
      "outputs": [
        {
          "output_type": "stream",
          "text": [
            " prediction \n",
            " [1 1 1 1 0 1 1 1 1 1 1 1 1 1 1 1 1 1 1 1 1 1 0 1 1 1 1 1 1 1 1 0 1 1 1 1 1\n",
            " 1 0 1 0 1 1 1 1 1 1 1 1 1 0 1 1 0 1 1 1 0 1 1 1 0 1 1 1 1 0 1 1 1 1 1 1 1\n",
            " 1 1 1 1 1 1 1 1 1 1 0 0 1 0 1 0 1 0 1 0 1 1 1 1 0 1 0 1 1 1 1 1 1 0 1 1 1\n",
            " 1 1 1 0 1 1 1 1 1 1 1 1 1 1 1 1 0 1 1 1 1 1 1 1 1 1 0 1 1 1 1 0 1 1]\n",
            "accuracy score\n",
            " 0.8413793103448276\n",
            "confusion metrix\n",
            " [[ 20   3]\n",
            " [ 20 102]]\n",
            "classification Report \n",
            "               precision    recall  f1-score   support\n",
            "\n",
            "           0       0.50      0.87      0.63        23\n",
            "           1       0.97      0.84      0.90       122\n",
            "\n",
            "    accuracy                           0.84       145\n",
            "   macro avg       0.74      0.85      0.77       145\n",
            "weighted avg       0.90      0.84      0.86       145\n",
            "\n"
          ],
          "name": "stdout"
        }
      ]
    },
    {
      "cell_type": "code",
      "metadata": {
        "id": "ph9UOJ_iW49b",
        "colab": {
          "base_uri": "https://localhost:8080/"
        },
        "outputId": "b0f2c284-cfc4-44be-ac04-8b247308127f"
      },
      "source": [
        "from sklearn.ensemble import BaggingClassifier\n",
        "bagging = BaggingClassifier(max_samples=0.5,max_features=0.5)\n",
        "bagging.fit(x_train,y_train)"
      ],
      "execution_count": 90,
      "outputs": [
        {
          "output_type": "execute_result",
          "data": {
            "text/plain": [
              "BaggingClassifier(base_estimator=None, bootstrap=True, bootstrap_features=False,\n",
              "                  max_features=0.5, max_samples=0.5, n_estimators=10,\n",
              "                  n_jobs=None, oob_score=False, random_state=None, verbose=0,\n",
              "                  warm_start=False)"
            ]
          },
          "metadata": {
            "tags": []
          },
          "execution_count": 90
        }
      ]
    },
    {
      "cell_type": "code",
      "metadata": {
        "id": "9dnFWw3wW7uN",
        "colab": {
          "base_uri": "https://localhost:8080/"
        },
        "outputId": "e65a155d-bd10-4ad8-8283-002be5ff3e8d"
      },
      "source": [
        "pred=bagging.predict(x_test)#Pred\n",
        "print(' prediction \\n',pred)#print the predicted Value \n",
        "bagging=print('accuracy score\\n',accuracy_score(pred,y_test))#Accuracy SCore \n",
        "print('confusion metrix\\n',confusion_matrix(pred,y_test))#Confusion metrix\n",
        "print('classification Report \\n',classification_report(pred,y_test))#Classsifiaction Report "
      ],
      "execution_count": 91,
      "outputs": [
        {
          "output_type": "stream",
          "text": [
            " prediction \n",
            " [1 1 1 1 1 1 1 1 1 1 1 1 1 1 0 1 1 1 1 1 1 1 1 1 1 1 1 1 1 1 1 1 1 1 0 0 1\n",
            " 1 1 1 1 1 1 1 0 1 1 1 0 1 1 1 1 1 1 1 1 0 1 1 1 1 1 1 1 1 1 1 1 1 1 1 1 1\n",
            " 1 1 1 1 1 1 1 1 1 1 1 0 0 0 1 1 1 0 1 0 0 1 1 1 0 1 1 1 0 1 1 1 1 0 1 0 0\n",
            " 1 1 0 1 1 1 1 1 1 1 1 0 1 1 1 0 1 1 0 1 1 1 1 1 1 1 1 1 1 1 1 1 1 1]\n",
            "accuracy score\n",
            " 0.7448275862068966\n",
            "confusion metrix\n",
            " [[12  9]\n",
            " [28 96]]\n",
            "classification Report \n",
            "               precision    recall  f1-score   support\n",
            "\n",
            "           0       0.30      0.57      0.39        21\n",
            "           1       0.91      0.77      0.84       124\n",
            "\n",
            "    accuracy                           0.74       145\n",
            "   macro avg       0.61      0.67      0.62       145\n",
            "weighted avg       0.83      0.74      0.77       145\n",
            "\n"
          ],
          "name": "stdout"
        }
      ]
    },
    {
      "cell_type": "code",
      "metadata": {
        "id": "Q6zS4YnWW9pY",
        "colab": {
          "base_uri": "https://localhost:8080/"
        },
        "outputId": "0b1078c7-85c7-49d2-de0e-4543fc94f0ca"
      },
      "source": [
        "from sklearn.ensemble import GradientBoostingClassifier\n",
        "GBC = GradientBoostingClassifier(n_estimators=200,learning_rate=.02)\n",
        "GBC.fit(x_train,y_train)"
      ],
      "execution_count": 92,
      "outputs": [
        {
          "output_type": "execute_result",
          "data": {
            "text/plain": [
              "GradientBoostingClassifier(ccp_alpha=0.0, criterion='friedman_mse', init=None,\n",
              "                           learning_rate=0.02, loss='deviance', max_depth=3,\n",
              "                           max_features=None, max_leaf_nodes=None,\n",
              "                           min_impurity_decrease=0.0, min_impurity_split=None,\n",
              "                           min_samples_leaf=1, min_samples_split=2,\n",
              "                           min_weight_fraction_leaf=0.0, n_estimators=200,\n",
              "                           n_iter_no_change=None, presort='deprecated',\n",
              "                           random_state=None, subsample=1.0, tol=0.0001,\n",
              "                           validation_fraction=0.1, verbose=0,\n",
              "                           warm_start=False)"
            ]
          },
          "metadata": {
            "tags": []
          },
          "execution_count": 92
        }
      ]
    },
    {
      "cell_type": "code",
      "metadata": {
        "id": "cYdDiRm2XA9j",
        "colab": {
          "base_uri": "https://localhost:8080/"
        },
        "outputId": "6797ad77-71d0-4f63-f398-cfb602112660"
      },
      "source": [
        "pred=GBC.predict(x_test)#Pred\n",
        "print(' prediction \\n',pred)#print the predicted Value \n",
        "GBC=print('accuracy score\\n',accuracy_score(pred,y_test))#Accuracy SCore \n",
        "print('confusion metrix\\n',confusion_matrix(pred,y_test))#Confusion metrix\n",
        "print('classification Report \\n',classification_report(pred,y_test))#Classsifiaction Report "
      ],
      "execution_count": 93,
      "outputs": [
        {
          "output_type": "stream",
          "text": [
            " prediction \n",
            " [1 1 1 1 0 1 1 1 1 1 1 1 1 1 1 1 1 1 1 1 1 1 0 1 1 1 1 1 1 1 1 0 1 1 0 1 1\n",
            " 1 0 1 0 1 1 1 1 1 1 1 1 1 0 1 1 0 1 1 1 0 1 1 1 0 1 1 1 1 0 1 1 1 1 1 1 1\n",
            " 1 1 1 1 1 1 1 1 1 1 0 0 1 0 1 0 1 0 1 0 1 1 1 1 0 1 0 1 1 1 1 1 1 0 1 1 1\n",
            " 1 1 1 0 1 1 1 1 1 1 1 0 1 1 1 1 0 1 1 1 1 1 1 1 1 1 0 1 1 1 1 0 1 1]\n",
            "accuracy score\n",
            " 0.8275862068965517\n",
            "confusion metrix\n",
            " [[ 20   5]\n",
            " [ 20 100]]\n",
            "classification Report \n",
            "               precision    recall  f1-score   support\n",
            "\n",
            "           0       0.50      0.80      0.62        25\n",
            "           1       0.95      0.83      0.89       120\n",
            "\n",
            "    accuracy                           0.83       145\n",
            "   macro avg       0.73      0.82      0.75       145\n",
            "weighted avg       0.87      0.83      0.84       145\n",
            "\n"
          ],
          "name": "stdout"
        }
      ]
    },
    {
      "cell_type": "code",
      "metadata": {
        "id": "7xt0AP21WmDA"
      },
      "source": [
        "from sklearn.model_selection import cross_val_score\n",
        "from sklearn.model_selection import cross_val_predict"
      ],
      "execution_count": 94,
      "outputs": []
    },
    {
      "cell_type": "code",
      "metadata": {
        "id": "Euc5VMAcWmDD",
        "colab": {
          "base_uri": "https://localhost:8080/"
        },
        "outputId": "e869448f-4a43-4eda-a13d-f594d5f37385"
      },
      "source": [
        "score=cross_val_score(gn,x,y,cv=5,scoring='accuracy')\n",
        "print('score of mean \\n',score.mean())\n",
        "print('score of standard devition \\n',score.std())\n",
        "y_pred=cross_val_predict(gn,x,y,cv=5)\n",
        "print('prediction \\n',y_pred)\n",
        "confu=confusion_matrix(y,y_pred)\n",
        "print('confusion matrix \\n',confu)"
      ],
      "execution_count": 95,
      "outputs": [
        {
          "output_type": "stream",
          "text": [
            "score of mean \n",
            " 0.8112328178694158\n",
            "score of standard devition \n",
            " 0.03837238045884858\n",
            "prediction \n",
            " [1 1 1 1 1 1 1 0 1 1 1 1 1 0 1 0 1 0 1 1 1 1 1 1 1 1 1 0 1 1 1 1 1 1 1 1 1\n",
            " 1 0 1 1 1 1 1 0 1 1 1 1 1 1 1 0 0 0 1 0 1 0 1 1 1 0 1 1 1 1 0 1 1 1 1 1 1\n",
            " 1 1 1 1 1 1 1 1 1 1 1 1 1 1 1 0 1 1 0 1 1 1 1 1 1 0 1 1 1 0 1 1 1 1 1 1 0\n",
            " 1 1 1 1 1 1 1 1 1 1 1 0 1 1 1 1 1 1 1 1 0 1 1 1 1 1 0 1 1 1 1 1 1 1 0 0 1\n",
            " 1 0 1 1 1 1 1 1 1 1 1 1 1 0 1 1 1 1 1 1 1 1 1 0 1 1 1 1 1 1 0 1 1 1 1 1 1\n",
            " 1 1 1 1 1 1 1 1 1 1 1 1 1 1 1 1 1 0 1 1 1 0 1 0 1 1 1 1 1 1 1 0 1 1 1 1 1\n",
            " 1 1 1 1 0 1 1 1 1 1 1 1 1 1 1 0 1 1 1 1 1 1 0 1 1 1 1 1 0 1 1 1 1 1 1 1 1\n",
            " 1 1 0 0 1 1 1 1 1 1 0 1 1 1 1 1 1 1 1 1 1 1 0 1 1 1 0 1 1 1 1 1 1 1 0 1 1\n",
            " 1 0 1 1 1 1 1 1 1 1 1 0 1 1 1 1 1 1 0 1 1 0 0 1 1 1 1 1 1 0 1 0 1 0 1 1 1\n",
            " 1 1 0 1 0 1 1 1 1 1 1 1 0 1 1 1 1 0 1 1 1 1 1 1 0 0 0 0 1 1 1 1 1 1 1 1 0\n",
            " 1 0 1 1 0 1 1 1 1 1 1 1 1 1 1 1 1 0 1 1 1 0 0 1 1 0 1 1 1 1 1 1 1 1 1 1 1\n",
            " 1 1 1 1 1 1 1 1 1 1 0 1 1 1 0 0 1 1 1 1 1 0 1 1 1 0 1 0 1 1 0 0 1 1 1 1 1\n",
            " 1 1 0 1 0 1 0 1 0 1 1 1 1 1 1 0 1 1 0 1 1 1 0 1 1 1 1 1 1 1 1 1 1 1 1 1 1\n",
            " 0]\n",
            "confusion matrix \n",
            " [[ 71  81]\n",
            " [ 10 320]]\n"
          ],
          "name": "stdout"
        }
      ]
    },
    {
      "cell_type": "code",
      "metadata": {
        "id": "lK_NpowMWmDF",
        "colab": {
          "base_uri": "https://localhost:8080/"
        },
        "outputId": "b7264dfa-2ce9-4090-8bb3-c0b02c51d871"
      },
      "source": [
        "from sklearn.externals import joblib\n",
        "joblib.dump(data,'fraud.pkl')"
      ],
      "execution_count": 96,
      "outputs": [
        {
          "output_type": "execute_result",
          "data": {
            "text/plain": [
              "['fraud.pkl']"
            ]
          },
          "metadata": {
            "tags": []
          },
          "execution_count": 96
        }
      ]
    }
  ]
}